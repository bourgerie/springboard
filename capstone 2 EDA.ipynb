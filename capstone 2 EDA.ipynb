{
 "cells": [
  {
   "cell_type": "markdown",
   "id": "d2fbcabe",
   "metadata": {},
   "source": [
    "# EDA"
   ]
  },
  {
   "cell_type": "markdown",
   "id": "36016a7b",
   "metadata": {},
   "source": [
    "3.1\n",
    "This is for the second capstone project. The project goal is to predict whether tweets are discussing an actual disaster based on the text -- it is from this kaggle challenge: https://www.kaggle.com/c/nlp-getting-started/overview. \n",
    "\n",
    "The data wrangling was done previously here: \n"
   ]
  },
  {
   "cell_type": "markdown",
   "id": "213a5732",
   "metadata": {},
   "source": [
    "# 3.1 imports"
   ]
  },
  {
   "cell_type": "code",
   "execution_count": 1,
   "id": "47061440",
   "metadata": {},
   "outputs": [],
   "source": [
    "#imports\n",
    "\n",
    "import pandas as pd\n",
    "import numpy as np\n",
    "import matplotlib.pyplot as plt\n",
    "import seaborn as sns"
   ]
  },
  {
   "cell_type": "markdown",
   "id": "d2e29398",
   "metadata": {},
   "source": [
    "# 3.2 data"
   ]
  },
  {
   "cell_type": "markdown",
   "id": "dabec66a",
   "metadata": {},
   "source": []
  },
  {
   "cell_type": "code",
   "execution_count": 2,
   "id": "1cc0aa17",
   "metadata": {},
   "outputs": [],
   "source": [
    "train_data_c = pd.read_csv('C:/Users/bourg/OneDrive/Documents/springboard/NLP getting started/cleaned/train_data_clean.csv')\n",
    "test_data_c = pd.read_csv('C:/Users/bourg/OneDrive/Documents/springboard/NLP getting started/cleaned/test_data_clean.csv')"
   ]
  },
  {
   "cell_type": "code",
   "execution_count": 3,
   "id": "127b8c44",
   "metadata": {},
   "outputs": [
    {
     "name": "stdout",
     "output_type": "stream",
     "text": [
      "<class 'pandas.core.frame.DataFrame'>\n",
      "RangeIndex: 7552 entries, 0 to 7551\n",
      "Data columns (total 6 columns):\n",
      " #   Column      Non-Null Count  Dtype \n",
      "---  ------      --------------  ----- \n",
      " 0   Unnamed: 0  7552 non-null   int64 \n",
      " 1   id          7552 non-null   int64 \n",
      " 2   keyword     7552 non-null   object\n",
      " 3   location    5080 non-null   object\n",
      " 4   text        7552 non-null   object\n",
      " 5   target      7552 non-null   int64 \n",
      "dtypes: int64(3), object(3)\n",
      "memory usage: 354.1+ KB\n"
     ]
    }
   ],
   "source": [
    "train_data_c.info()"
   ]
  },
  {
   "cell_type": "code",
   "execution_count": 4,
   "id": "de44c4b2",
   "metadata": {},
   "outputs": [
    {
     "name": "stdout",
     "output_type": "stream",
     "text": [
      "<class 'pandas.core.frame.DataFrame'>\n",
      "RangeIndex: 3263 entries, 0 to 3262\n",
      "Data columns (total 5 columns):\n",
      " #   Column      Non-Null Count  Dtype \n",
      "---  ------      --------------  ----- \n",
      " 0   Unnamed: 0  3263 non-null   int64 \n",
      " 1   id          3263 non-null   int64 \n",
      " 2   keyword     3237 non-null   object\n",
      " 3   location    2157 non-null   object\n",
      " 4   text        3263 non-null   object\n",
      "dtypes: int64(2), object(3)\n",
      "memory usage: 127.6+ KB\n"
     ]
    }
   ],
   "source": [
    "test_data_c.info()"
   ]
  },
  {
   "cell_type": "code",
   "execution_count": 5,
   "id": "7c0eb1f8",
   "metadata": {},
   "outputs": [
    {
     "data": {
      "text/html": [
       "<div>\n",
       "<style scoped>\n",
       "    .dataframe tbody tr th:only-of-type {\n",
       "        vertical-align: middle;\n",
       "    }\n",
       "\n",
       "    .dataframe tbody tr th {\n",
       "        vertical-align: top;\n",
       "    }\n",
       "\n",
       "    .dataframe thead th {\n",
       "        text-align: right;\n",
       "    }\n",
       "</style>\n",
       "<table border=\"1\" class=\"dataframe\">\n",
       "  <thead>\n",
       "    <tr style=\"text-align: right;\">\n",
       "      <th></th>\n",
       "      <th>Unnamed: 0</th>\n",
       "      <th>id</th>\n",
       "      <th>keyword</th>\n",
       "      <th>location</th>\n",
       "      <th>text</th>\n",
       "      <th>target</th>\n",
       "    </tr>\n",
       "  </thead>\n",
       "  <tbody>\n",
       "    <tr>\n",
       "      <th>0</th>\n",
       "      <td>31</td>\n",
       "      <td>48</td>\n",
       "      <td>ablaze</td>\n",
       "      <td>Birmingham</td>\n",
       "      <td>@bbcmtd Wholesale Markets ablaze http://t.co/l...</td>\n",
       "      <td>1</td>\n",
       "    </tr>\n",
       "    <tr>\n",
       "      <th>1</th>\n",
       "      <td>32</td>\n",
       "      <td>49</td>\n",
       "      <td>ablaze</td>\n",
       "      <td>Est. September 2012 - Bristol</td>\n",
       "      <td>We always try to bring the heavy. #metal #RT h...</td>\n",
       "      <td>0</td>\n",
       "    </tr>\n",
       "    <tr>\n",
       "      <th>2</th>\n",
       "      <td>33</td>\n",
       "      <td>50</td>\n",
       "      <td>ablaze</td>\n",
       "      <td>AFRICA</td>\n",
       "      <td>#AFRICANBAZE: Breaking news:Nigeria flag set a...</td>\n",
       "      <td>1</td>\n",
       "    </tr>\n",
       "    <tr>\n",
       "      <th>3</th>\n",
       "      <td>34</td>\n",
       "      <td>52</td>\n",
       "      <td>ablaze</td>\n",
       "      <td>Philadelphia, PA</td>\n",
       "      <td>Crying out for more! Set me ablaze</td>\n",
       "      <td>0</td>\n",
       "    </tr>\n",
       "    <tr>\n",
       "      <th>4</th>\n",
       "      <td>35</td>\n",
       "      <td>53</td>\n",
       "      <td>ablaze</td>\n",
       "      <td>London, UK</td>\n",
       "      <td>On plus side LOOK AT THE SKY LAST NIGHT IT WAS...</td>\n",
       "      <td>0</td>\n",
       "    </tr>\n",
       "  </tbody>\n",
       "</table>\n",
       "</div>"
      ],
      "text/plain": [
       "   Unnamed: 0  id keyword                       location  \\\n",
       "0          31  48  ablaze                     Birmingham   \n",
       "1          32  49  ablaze  Est. September 2012 - Bristol   \n",
       "2          33  50  ablaze                         AFRICA   \n",
       "3          34  52  ablaze               Philadelphia, PA   \n",
       "4          35  53  ablaze                     London, UK   \n",
       "\n",
       "                                                text  target  \n",
       "0  @bbcmtd Wholesale Markets ablaze http://t.co/l...       1  \n",
       "1  We always try to bring the heavy. #metal #RT h...       0  \n",
       "2  #AFRICANBAZE: Breaking news:Nigeria flag set a...       1  \n",
       "3                 Crying out for more! Set me ablaze       0  \n",
       "4  On plus side LOOK AT THE SKY LAST NIGHT IT WAS...       0  "
      ]
     },
     "execution_count": 5,
     "metadata": {},
     "output_type": "execute_result"
    }
   ],
   "source": [
    "train_data_c.head()\n"
   ]
  },
  {
   "cell_type": "code",
   "execution_count": 6,
   "id": "27c78d04",
   "metadata": {},
   "outputs": [
    {
     "name": "stdout",
     "output_type": "stream",
     "text": [
      "['ablaze' 'accident' 'aftershock' 'airplane%20accident' 'ambulance'\n",
      " 'annihilated' 'annihilation' 'apocalypse' 'armageddon' 'army' 'arson'\n",
      " 'arsonist' 'attack' 'attacked' 'avalanche' 'battle' 'bioterror'\n",
      " 'bioterrorism' 'blaze' 'blazing' 'bleeding' 'blew%20up' 'blight'\n",
      " 'blizzard' 'blood' 'bloody' 'blown%20up' 'body%20bag' 'body%20bagging'\n",
      " 'body%20bags' 'bomb' 'bombed' 'bombing' 'bridge%20collapse'\n",
      " 'buildings%20burning' 'buildings%20on%20fire' 'burned' 'burning'\n",
      " 'burning%20buildings' 'bush%20fires' 'casualties' 'casualty'\n",
      " 'catastrophe' 'catastrophic' 'chemical%20emergency' 'cliff%20fall'\n",
      " 'collapse' 'collapsed' 'collide' 'collided' 'collision' 'crash' 'crashed'\n",
      " 'crush' 'crushed' 'curfew' 'cyclone' 'damage' 'danger' 'dead' 'death'\n",
      " 'deaths' 'debris' 'deluge' 'deluged' 'demolish' 'demolished' 'demolition'\n",
      " 'derail' 'derailed' 'derailment' 'desolate' 'desolation' 'destroy'\n",
      " 'destroyed' 'destruction' 'detonate' 'detonation' 'devastated'\n",
      " 'devastation' 'disaster' 'displaced' 'drought' 'drown' 'drowned'\n",
      " 'drowning' 'dust%20storm' 'earthquake' 'electrocute' 'electrocuted'\n",
      " 'emergency' 'emergency%20plan' 'emergency%20services' 'engulfed'\n",
      " 'epicentre' 'evacuate' 'evacuated' 'evacuation' 'explode' 'exploded'\n",
      " 'explosion' 'eyewitness' 'famine' 'fatal' 'fatalities' 'fatality' 'fear'\n",
      " 'fire' 'fire%20truck' 'first%20responders' 'flames' 'flattened' 'flood'\n",
      " 'flooding' 'floods' 'forest%20fire' 'forest%20fires' 'hail' 'hailstorm'\n",
      " 'harm' 'hazard' 'hazardous' 'heat%20wave' 'hellfire' 'hijack' 'hijacker'\n",
      " 'hijacking' 'hostage' 'hostages' 'hurricane' 'injured' 'injuries'\n",
      " 'injury' 'inundated' 'inundation' 'landslide' 'lava' 'lightning'\n",
      " 'loud%20bang' 'mass%20murder' 'mass%20murderer' 'massacre' 'mayhem'\n",
      " 'meltdown' 'military' 'mudslide' 'natural%20disaster'\n",
      " 'nuclear%20disaster' 'nuclear%20reactor' 'obliterate' 'obliterated'\n",
      " 'obliteration' 'oil%20spill' 'outbreak' 'pandemonium' 'panic' 'panicking'\n",
      " 'police' 'quarantine' 'quarantined' 'radiation%20emergency' 'rainstorm'\n",
      " 'razed' 'refugees' 'rescue' 'rescued' 'rescuers' 'riot' 'rioting'\n",
      " 'rubble' 'ruin' 'sandstorm' 'screamed' 'screaming' 'screams' 'seismic'\n",
      " 'sinkhole' 'sinking' 'siren' 'sirens' 'smoke' 'snowstorm' 'storm'\n",
      " 'stretcher' 'structural%20failure' 'suicide%20bomb' 'suicide%20bomber'\n",
      " 'suicide%20bombing' 'sunk' 'survive' 'survived' 'survivors' 'terrorism'\n",
      " 'terrorist' 'threat' 'thunder' 'thunderstorm' 'tornado' 'tragedy'\n",
      " 'trapped' 'trauma' 'traumatised' 'trouble' 'tsunami' 'twister' 'typhoon'\n",
      " 'upheaval' 'violent%20storm' 'volcano' 'war%20zone' 'weapon' 'weapons'\n",
      " 'whirlwind' 'wild%20fires' 'wildfire' 'windstorm' 'wounded' 'wounds'\n",
      " 'wreck' 'wreckage' 'wrecked']\n"
     ]
    }
   ],
   "source": [
    "print(train_data_c['keyword'].unique())"
   ]
  },
  {
   "cell_type": "markdown",
   "id": "1d0c0716",
   "metadata": {},
   "source": [
    "Some data cleaning still needs to happen. '%20' needs to be replaced with a space.\n",
    "\n",
    "\n"
   ]
  },
  {
   "cell_type": "code",
   "execution_count": 7,
   "id": "cc6e408f",
   "metadata": {},
   "outputs": [],
   "source": [
    "#train_data_c = train_data_c.replace(\"%20\",\" \")\n",
    "train_data_c['keyword'] = train_data_c['keyword'].replace(regex=True,to_replace=r'%20',value=r' ')\n"
   ]
  },
  {
   "cell_type": "code",
   "execution_count": 8,
   "id": "d60b54d1",
   "metadata": {},
   "outputs": [],
   "source": [
    "test_data_c['keyword'] = test_data_c['keyword'].replace(regex=True,to_replace=r'%20',value=r' ')\n"
   ]
  },
  {
   "cell_type": "code",
   "execution_count": 9,
   "id": "a734abfa",
   "metadata": {},
   "outputs": [
    {
     "name": "stdout",
     "output_type": "stream",
     "text": [
      "['ablaze' 'accident' 'aftershock' 'airplane accident' 'ambulance'\n",
      " 'annihilated' 'annihilation' 'apocalypse' 'armageddon' 'army' 'arson'\n",
      " 'arsonist' 'attack' 'attacked' 'avalanche' 'battle' 'bioterror'\n",
      " 'bioterrorism' 'blaze' 'blazing' 'bleeding' 'blew up' 'blight' 'blizzard'\n",
      " 'blood' 'bloody' 'blown up' 'body bag' 'body bagging' 'body bags' 'bomb'\n",
      " 'bombed' 'bombing' 'bridge collapse' 'buildings burning'\n",
      " 'buildings on fire' 'burned' 'burning' 'burning buildings' 'bush fires'\n",
      " 'casualties' 'casualty' 'catastrophe' 'catastrophic' 'chemical emergency'\n",
      " 'cliff fall' 'collapse' 'collapsed' 'collide' 'collided' 'collision'\n",
      " 'crash' 'crashed' 'crush' 'crushed' 'curfew' 'cyclone' 'damage' 'danger'\n",
      " 'dead' 'death' 'deaths' 'debris' 'deluge' 'deluged' 'demolish'\n",
      " 'demolished' 'demolition' 'derail' 'derailed' 'derailment' 'desolate'\n",
      " 'desolation' 'destroy' 'destroyed' 'destruction' 'detonate' 'detonation'\n",
      " 'devastated' 'devastation' 'disaster' 'displaced' 'drought' 'drown'\n",
      " 'drowned' 'drowning' 'dust storm' 'earthquake' 'electrocute'\n",
      " 'electrocuted' 'emergency' 'emergency plan' 'emergency services'\n",
      " 'engulfed' 'epicentre' 'evacuate' 'evacuated' 'evacuation' 'explode'\n",
      " 'exploded' 'explosion' 'eyewitness' 'famine' 'fatal' 'fatalities'\n",
      " 'fatality' 'fear' 'fire' 'fire truck' 'first responders' 'flames'\n",
      " 'flattened' 'flood' 'flooding' 'floods' 'forest fire' 'forest fires'\n",
      " 'hail' 'hailstorm' 'harm' 'hazard' 'hazardous' 'heat wave' 'hellfire'\n",
      " 'hijack' 'hijacker' 'hijacking' 'hostage' 'hostages' 'hurricane'\n",
      " 'injured' 'injuries' 'injury' 'inundated' 'inundation' 'landslide' 'lava'\n",
      " 'lightning' 'loud bang' 'mass murder' 'mass murderer' 'massacre' 'mayhem'\n",
      " 'meltdown' 'military' 'mudslide' 'natural disaster' 'nuclear disaster'\n",
      " 'nuclear reactor' 'obliterate' 'obliterated' 'obliteration' 'oil spill'\n",
      " 'outbreak' 'pandemonium' 'panic' 'panicking' 'police' 'quarantine'\n",
      " 'quarantined' 'radiation emergency' 'rainstorm' 'razed' 'refugees'\n",
      " 'rescue' 'rescued' 'rescuers' 'riot' 'rioting' 'rubble' 'ruin'\n",
      " 'sandstorm' 'screamed' 'screaming' 'screams' 'seismic' 'sinkhole'\n",
      " 'sinking' 'siren' 'sirens' 'smoke' 'snowstorm' 'storm' 'stretcher'\n",
      " 'structural failure' 'suicide bomb' 'suicide bomber' 'suicide bombing'\n",
      " 'sunk' 'survive' 'survived' 'survivors' 'terrorism' 'terrorist' 'threat'\n",
      " 'thunder' 'thunderstorm' 'tornado' 'tragedy' 'trapped' 'trauma'\n",
      " 'traumatised' 'trouble' 'tsunami' 'twister' 'typhoon' 'upheaval'\n",
      " 'violent storm' 'volcano' 'war zone' 'weapon' 'weapons' 'whirlwind'\n",
      " 'wild fires' 'wildfire' 'windstorm' 'wounded' 'wounds' 'wreck' 'wreckage'\n",
      " 'wrecked']\n"
     ]
    }
   ],
   "source": [
    "print(train_data_c['keyword'].unique())"
   ]
  },
  {
   "cell_type": "code",
   "execution_count": 10,
   "id": "b8014585",
   "metadata": {},
   "outputs": [
    {
     "name": "stdout",
     "output_type": "stream",
     "text": [
      "[nan 'ablaze' 'accident' 'aftershock' 'airplane accident' 'ambulance'\n",
      " 'annihilated' 'annihilation' 'apocalypse' 'armageddon' 'army' 'arson'\n",
      " 'arsonist' 'attack' 'attacked' 'avalanche' 'battle' 'bioterror'\n",
      " 'bioterrorism' 'blaze' 'blazing' 'bleeding' 'blew up' 'blight' 'blizzard'\n",
      " 'blood' 'bloody' 'blown up' 'body bag' 'body bagging' 'body bags' 'bomb'\n",
      " 'bombed' 'bombing' 'bridge collapse' 'buildings burning'\n",
      " 'buildings on fire' 'burned' 'burning' 'burning buildings' 'bush fires'\n",
      " 'casualties' 'casualty' 'catastrophe' 'catastrophic' 'chemical emergency'\n",
      " 'cliff fall' 'collapse' 'collapsed' 'collide' 'collided' 'collision'\n",
      " 'crash' 'crashed' 'crush' 'crushed' 'curfew' 'cyclone' 'damage' 'danger'\n",
      " 'dead' 'death' 'deaths' 'debris' 'deluge' 'deluged' 'demolish'\n",
      " 'demolished' 'demolition' 'derail' 'derailed' 'derailment' 'desolate'\n",
      " 'desolation' 'destroy' 'destroyed' 'destruction' 'detonate' 'detonation'\n",
      " 'devastated' 'devastation' 'disaster' 'displaced' 'drought' 'drown'\n",
      " 'drowned' 'drowning' 'dust storm' 'earthquake' 'electrocute'\n",
      " 'electrocuted' 'emergency' 'emergency plan' 'emergency services'\n",
      " 'engulfed' 'epicentre' 'evacuate' 'evacuated' 'evacuation' 'explode'\n",
      " 'exploded' 'explosion' 'eyewitness' 'famine' 'fatal' 'fatalities'\n",
      " 'fatality' 'fear' 'fire' 'fire truck' 'first responders' 'flames'\n",
      " 'flattened' 'flood' 'flooding' 'floods' 'forest fire' 'forest fires'\n",
      " 'hail' 'hailstorm' 'harm' 'hazard' 'hazardous' 'heat wave' 'hellfire'\n",
      " 'hijack' 'hijacker' 'hijacking' 'hostage' 'hostages' 'hurricane'\n",
      " 'injured' 'injuries' 'injury' 'inundated' 'inundation' 'landslide' 'lava'\n",
      " 'lightning' 'loud bang' 'mass murder' 'mass murderer' 'massacre' 'mayhem'\n",
      " 'meltdown' 'military' 'mudslide' 'natural disaster' 'nuclear disaster'\n",
      " 'nuclear reactor' 'obliterate' 'obliterated' 'obliteration' 'oil spill'\n",
      " 'outbreak' 'pandemonium' 'panic' 'panicking' 'police' 'quarantine'\n",
      " 'quarantined' 'radiation emergency' 'rainstorm' 'razed' 'refugees'\n",
      " 'rescue' 'rescued' 'rescuers' 'riot' 'rioting' 'rubble' 'ruin'\n",
      " 'sandstorm' 'screamed' 'screaming' 'screams' 'seismic' 'sinkhole'\n",
      " 'sinking' 'siren' 'sirens' 'smoke' 'snowstorm' 'storm' 'stretcher'\n",
      " 'structural failure' 'suicide bomb' 'suicide bomber' 'suicide bombing'\n",
      " 'sunk' 'survive' 'survived' 'survivors' 'terrorism' 'terrorist' 'threat'\n",
      " 'thunder' 'thunderstorm' 'tornado' 'tragedy' 'trapped' 'trauma'\n",
      " 'traumatised' 'trouble' 'tsunami' 'twister' 'typhoon' 'upheaval'\n",
      " 'violent storm' 'volcano' 'war zone' 'weapon' 'weapons' 'whirlwind'\n",
      " 'wild fires' 'wildfire' 'windstorm' 'wounded' 'wounds' 'wreck' 'wreckage'\n",
      " 'wrecked']\n"
     ]
    }
   ],
   "source": [
    "print(test_data_c['keyword'].unique())"
   ]
  },
  {
   "cell_type": "markdown",
   "id": "1aae2216",
   "metadata": {},
   "source": [
    "# Explore the data"
   ]
  },
  {
   "cell_type": "markdown",
   "id": "e4ea83bf",
   "metadata": {},
   "source": [
    "There is a lot of missing data in this set. "
   ]
  },
  {
   "cell_type": "code",
   "execution_count": 11,
   "id": "1614601d",
   "metadata": {},
   "outputs": [
    {
     "data": {
      "text/plain": [
       "Unnamed: 0       0\n",
       "id               0\n",
       "keyword          0\n",
       "location      2472\n",
       "text             0\n",
       "target           0\n",
       "dtype: int64"
      ]
     },
     "execution_count": 11,
     "metadata": {},
     "output_type": "execute_result"
    }
   ],
   "source": [
    "train_data_c.isnull().sum()"
   ]
  },
  {
   "cell_type": "markdown",
   "id": "c112e448",
   "metadata": {},
   "source": [
    "Comparing to the info summary previously, there are 7552 total cells, which means that nearly 33% of the location training data is missing. "
   ]
  },
  {
   "cell_type": "code",
   "execution_count": 12,
   "id": "f40072f3",
   "metadata": {},
   "outputs": [
    {
     "data": {
      "text/plain": [
       "Unnamed: 0       0\n",
       "id               0\n",
       "keyword         26\n",
       "location      1106\n",
       "text             0\n",
       "dtype: int64"
      ]
     },
     "execution_count": 12,
     "metadata": {},
     "output_type": "execute_result"
    }
   ],
   "source": [
    "test_data_c.isnull().sum()"
   ]
  },
  {
   "cell_type": "markdown",
   "id": "9c77dd9d",
   "metadata": {},
   "source": [
    "The missing keywords in the test data is a small enough number that I feel I can drop those rows -- I also think keyword will be an important feature, so I don't want to guess on the data if it's not necessary. "
   ]
  },
  {
   "cell_type": "code",
   "execution_count": 13,
   "id": "8b126e73",
   "metadata": {},
   "outputs": [],
   "source": [
    "test_data_c.dropna(subset=['keyword'], inplace=True)\n"
   ]
  },
  {
   "cell_type": "code",
   "execution_count": 14,
   "id": "a691a9e2",
   "metadata": {},
   "outputs": [
    {
     "data": {
      "text/plain": [
       "0"
      ]
     },
     "execution_count": 14,
     "metadata": {},
     "output_type": "execute_result"
    }
   ],
   "source": [
    "test_data_c['keyword'].isnull().sum()\n",
    "#empty rows successfully dropped"
   ]
  },
  {
   "cell_type": "markdown",
   "id": "74c1b03b",
   "metadata": {},
   "source": [
    "In regards to the location data, a decision needs to be made whether it's possible to augment it, leave empty, or drop the field. Since it is a categorical variable, my instinct is it will need to be dropped or left empty. \n",
    "\n",
    "Exploring the location variable a little more:"
   ]
  },
  {
   "cell_type": "code",
   "execution_count": 15,
   "id": "eb04052a",
   "metadata": {},
   "outputs": [
    {
     "data": {
      "text/plain": [
       "<AxesSubplot:>"
      ]
     },
     "execution_count": 15,
     "metadata": {},
     "output_type": "execute_result"
    },
    {
     "data": {
      "image/png": "[encoded data removed]",
      "text/plain": [
       "<Figure size 432x288 with 1 Axes>"
      ]
     },
     "metadata": {
      "needs_background": "light"
     },
     "output_type": "display_data"
    }
   ],
   "source": [
    "train_data_c['location'].value_counts()[:25].plot(kind='barh')\n",
    "#some code inspiration drawn from https://mode.com/python-tutorial/counting-and-plotting-in-python/\n"
   ]
  },
  {
   "cell_type": "code",
   "execution_count": 16,
   "id": "2d68bc41",
   "metadata": {},
   "outputs": [
    {
     "data": {
      "text/plain": [
       "<AxesSubplot:>"
      ]
     },
     "execution_count": 16,
     "metadata": {},
     "output_type": "execute_result"
    },
    {
     "data": {
      "image/png": "[encoded data removed]",
      "text/plain": [
       "<Figure size 432x288 with 1 Axes>"
      ]
     },
     "metadata": {
      "needs_background": "light"
     },
     "output_type": "display_data"
    }
   ],
   "source": [
    "test_data_c['location'].value_counts()[:25].plot(kind='barh')\n"
   ]
  },
  {
   "cell_type": "code",
   "execution_count": 17,
   "id": "59cd82f4",
   "metadata": {},
   "outputs": [
    {
     "data": {
      "text/plain": [
       "USA                           104\n",
       "New York                       71\n",
       "United States                  50\n",
       "London                         45\n",
       "Canada                         29\n",
       "                             ... \n",
       " Little Rock, AR                1\n",
       "seattle grace mercy death       1\n",
       "Memphis, in the Tennessees      1\n",
       "Somewhere in Spain              1\n",
       "Planet of da Bathing Apes       1\n",
       "Name: location, Length: 3341, dtype: int64"
      ]
     },
     "execution_count": 17,
     "metadata": {},
     "output_type": "execute_result"
    }
   ],
   "source": []
  },
  {
   "cell_type": "markdown",
   "id": "f016e556",
   "metadata": {},
   "source": [
    "This is just the top 25 most common locations in the training data, but it's clear there are duplicates and issues with data categorization. There is duplicates like \"New York\"/\"New York, NY\" and \"United States\"/\"USA\". There's also the fact that there are cities, states, and then countries, Such as India, Kenya, Canada, and then the UK, which is another categorization. Last of all, there is \"Everywhere\" and \"Worldwide\". I'm guessing this was a freeform field and could be difficult to do much with. "
   ]
  },
  {
   "cell_type": "code",
   "execution_count": 25,
   "id": "d8c061aa",
   "metadata": {},
   "outputs": [
    {
     "name": "stdout",
     "output_type": "stream",
     "text": [
      "USA                           104\n",
      "New York                       71\n",
      "United States                  50\n",
      "London                         45\n",
      "Canada                         29\n",
      "                             ... \n",
      " Little Rock, AR                1\n",
      "seattle grace mercy death       1\n",
      "Memphis, in the Tennessees      1\n",
      "Somewhere in Spain              1\n",
      "Planet of da Bathing Apes       1\n",
      "Name: location, Length: 3341, dtype: int64\n"
     ]
    }
   ],
   "source": [
    "locations = train_data_c['location'].value_counts()\n",
    "print(locations)\n"
   ]
  },
  {
   "cell_type": "code",
   "execution_count": 26,
   "id": "dca95682",
   "metadata": {},
   "outputs": [],
   "source": [
    "#locations.to_csv('C:/Users/bourg/OneDrive/Documents/springboard/location_data.csv')"
   ]
  },
  {
   "cell_type": "markdown",
   "id": "35fdea1f",
   "metadata": {},
   "source": [
    "Looking further at the data, there are 3341 different locations and there was clearly no data validation -- many of them are not real locations like \"here\", \"??\", a number, or \"team slytherin\". The dataset was created and tagged by the company Appen (at the time called Figure Eight), but there is no further information about how the location data was obtained. This, adding with the information that a large percentage of the df rows do not have any location info at all makes the location data largely unhelpful."
   ]
  },
  {
   "cell_type": "markdown",
   "id": "9d38c712",
   "metadata": {},
   "source": [
    "Looking at the keyword column: "
   ]
  },
  {
   "cell_type": "code",
   "execution_count": 30,
   "id": "e59cae63",
   "metadata": {},
   "outputs": [
    {
     "name": "stdout",
     "output_type": "stream",
     "text": [
      "fatalities             45\n",
      "deluge                 42\n",
      "armageddon             42\n",
      "harm                   41\n",
      "sinking                41\n",
      "                       ..\n",
      "forest fire            19\n",
      "epicentre              12\n",
      "threat                 11\n",
      "inundation             10\n",
      "radiation emergency     9\n",
      "Name: keyword, Length: 221, dtype: int64\n"
     ]
    }
   ],
   "source": [
    "df_counts = train_data_c['keyword'].value_counts()\n",
    "print(df_counts)"
   ]
  },
  {
   "cell_type": "code",
   "execution_count": 31,
   "id": "15ae5c1e",
   "metadata": {},
   "outputs": [
    {
     "data": {
      "text/plain": [
       "221"
      ]
     },
     "execution_count": 31,
     "metadata": {},
     "output_type": "execute_result"
    }
   ],
   "source": [
    "len(df_counts)"
   ]
  },
  {
   "cell_type": "code",
   "execution_count": 19,
   "id": "47f1b95d",
   "metadata": {
    "scrolled": true
   },
   "outputs": [
    {
     "data": {
      "text/plain": [
       "<AxesSubplot:>"
      ]
     },
     "execution_count": 19,
     "metadata": {},
     "output_type": "execute_result"
    },
    {
     "data": {
      "image/png": "[encoded data removed]",
      "text/plain": [
       "<Figure size 432x288 with 1 Axes>"
      ]
     },
     "metadata": {
      "needs_background": "light"
     },
     "output_type": "display_data"
    }
   ],
   "source": [
    "df_counts.hist()\n"
   ]
  },
  {
   "cell_type": "code",
   "execution_count": 20,
   "id": "4b15ab9b",
   "metadata": {},
   "outputs": [
    {
     "data": {
      "text/plain": [
       "deluged         23\n",
       "demolished      22\n",
       "rubble          22\n",
       "annihilation    21\n",
       "snowstorm       21\n",
       "                ..\n",
       "fatalities       5\n",
       "forest fire      5\n",
       "threat           5\n",
       "inundation       4\n",
       "epicentre        1\n",
       "Name: keyword, Length: 221, dtype: int64"
      ]
     },
     "execution_count": 20,
     "metadata": {},
     "output_type": "execute_result"
    }
   ],
   "source": [
    "df2_counts = test_data_c['keyword'].value_counts()\n",
    "df2_counts"
   ]
  },
  {
   "cell_type": "markdown",
   "id": "5a14c28c",
   "metadata": {},
   "source": [
    "This data has been preannotated. The most significant column is target, which indicates if the keyword is tuned to a genuine emergency. The values are either 0 or 1, 0 indicating negative, 1 indicating positive.  Only the training data set has this target column filled out.\n",
    "\n",
    "Below is the distribution of the target values. "
   ]
  },
  {
   "cell_type": "code",
   "execution_count": 21,
   "id": "d38d8629",
   "metadata": {},
   "outputs": [
    {
     "data": {
      "text/plain": [
       "<AxesSubplot:>"
      ]
     },
     "execution_count": 21,
     "metadata": {},
     "output_type": "execute_result"
    },
    {
     "data": {
      "image/png": "[encoded data removed]",
      "text/plain": [
       "<Figure size 432x288 with 1 Axes>"
      ]
     },
     "metadata": {
      "needs_background": "light"
     },
     "output_type": "display_data"
    }
   ],
   "source": [
    "train_data_c['target'].hist(bins=2)\n",
    "#target only has values 0 and 1"
   ]
  }
 ],
 "metadata": {
  "kernelspec": {
   "display_name": "Python 3",
   "language": "python",
   "name": "python3"
  },
  "language_info": {
   "codemirror_mode": {
    "name": "ipython",
    "version": 3
   },
   "file_extension": ".py",
   "mimetype": "text/x-python",
   "name": "python",
   "nbconvert_exporter": "python",
   "pygments_lexer": "ipython3",
   "version": "3.8.8"
  }
 },
 "nbformat": 4,
 "nbformat_minor": 5
}
