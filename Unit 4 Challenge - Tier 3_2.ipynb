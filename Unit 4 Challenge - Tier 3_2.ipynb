{
 "cells": [
  {
   "cell_type": "markdown",
   "metadata": {
    "colab_type": "text",
    "id": "Tia3MP1SJpgj"
   },
   "source": [
    "# Springboard Data Science Career Track Unit 4 Challenge - Tier 3 Complete\n",
    "\n",
    "## Objectives\n",
    "Hey! Great job getting through those challenging DataCamp courses. You're learning a lot in a short span of time. \n",
    "\n",
    "In this notebook, you're going to apply the skills you've been learning, bridging the gap between the controlled environment of DataCamp and the *slightly* messier work that data scientists do with actual datasets!\n",
    "\n",
    "Here’s the mystery we’re going to solve: ***which boroughs of London have seen the greatest increase in housing prices, on average, over the last two decades?***\n",
    "\n",
    "\n",
    "A borough is just a fancy word for district. You may be familiar with the five boroughs of New York… well, there are 32 boroughs within Greater London [(here's some info for the curious)](https://en.wikipedia.org/wiki/London_boroughs). Some of them are more desirable areas to live in, and the data will reflect that with a greater rise in housing prices.\n",
    "\n",
    "***This is the Tier 3 notebook, which means it's not filled in at all: we'll just give you the skeleton of a project, the brief and the data. It's up to you to play around with it and see what you can find out! Good luck! If you struggle, feel free to look at easier tiers for help; but try to dip in and out of them, as the more independent work you do, the better it is for your learning!***\n",
    "\n",
    "This challenge will make use of only what you learned in the following DataCamp courses: \n",
    "- Prework courses (Introduction to Python for Data Science, Intermediate Python for Data Science)\n",
    "- Data Types for Data Science\n",
    "- Python Data Science Toolbox (Part One) \n",
    "- pandas Foundations\n",
    "- Manipulating DataFrames with pandas\n",
    "- Merging DataFrames with pandas\n",
    "\n",
    "Of the tools, techniques and concepts in the above DataCamp courses, this challenge should require the application of the following: \n",
    "- **pandas**\n",
    "    - **data ingestion and inspection** (pandas Foundations, Module One) \n",
    "    - **exploratory data analysis** (pandas Foundations, Module Two)\n",
    "    - **tidying and cleaning** (Manipulating DataFrames with pandas, Module Three) \n",
    "    - **transforming DataFrames** (Manipulating DataFrames with pandas, Module One)\n",
    "    - **subsetting DataFrames with lists** (Manipulating DataFrames with pandas, Module One) \n",
    "    - **filtering DataFrames** (Manipulating DataFrames with pandas, Module One) \n",
    "    - **grouping data** (Manipulating DataFrames with pandas, Module Four) \n",
    "    - **melting data** (Manipulating DataFrames with pandas, Module Three) \n",
    "    - **advanced indexing** (Manipulating DataFrames with pandas, Module Four) \n",
    "- **matplotlib** (Intermediate Python for Data Science, Module One)\n",
    "- **fundamental data types** (Data Types for Data Science, Module One) \n",
    "- **dictionaries** (Intermediate Python for Data Science, Module Two)\n",
    "- **handling dates and times** (Data Types for Data Science, Module Four)\n",
    "- **function definition** (Python Data Science Toolbox - Part One, Module One)\n",
    "- **default arguments, variable length, and scope** (Python Data Science Toolbox - Part One, Module Two) \n",
    "- **lambda functions and error handling** (Python Data Science Toolbox - Part One, Module Four) "
   ]
  },
  {
   "cell_type": "markdown",
   "metadata": {
    "colab_type": "text",
    "id": "Ipgd2nV8Jpgl"
   },
   "source": [
    "## The Data Science Pipeline\n",
    "\n",
    "This is Tier Three, so we'll get you started. But after that, it's all in your hands! When you feel done with your investigations, look back over what you've accomplished, and prepare a quick presentation of your findings for the next mentor meeting. \n",
    "\n",
    "Data Science is magical. In this case study, you'll get to apply some complex machine learning algorithms. But as  [David Spiegelhalter](https://www.youtube.com/watch?v=oUs1uvsz0Ok) reminds us, there is no substitute for simply **taking a really, really good look at the data.** Sometimes, this is all we need to answer our question.\n",
    "\n",
    "Data Science projects generally adhere to the four stages of Data Science Pipeline:\n",
    "1. Sourcing and loading \n",
    "2. Cleaning, transforming, and visualizing \n",
    "3. Modeling \n",
    "4. Evaluating and concluding \n"
   ]
  },
  {
   "cell_type": "markdown",
   "metadata": {
    "colab_type": "text",
    "id": "zswDqbefJpgm"
   },
   "source": [
    "### 1. Sourcing and Loading \n",
    "\n",
    "Any Data Science project kicks off by importing  ***pandas***. The documentation of this wonderful library can be found [here](https://pandas.pydata.org/). As you've seen, pandas is conveniently connected to the [Numpy](http://www.numpy.org/) and [Matplotlib](https://matplotlib.org/) libraries. \n",
    "\n",
    "***Hint:*** This part of the data science pipeline will test those skills you acquired in the pandas Foundations course, Module One. "
   ]
  },
  {
   "cell_type": "markdown",
   "metadata": {
    "colab_type": "text",
    "id": "aEau5nEvJpgm"
   },
   "source": [
    "#### 1.1. Importing Libraries"
   ]
  },
  {
   "cell_type": "code",
   "execution_count": 1,
   "metadata": {
    "colab": {},
    "colab_type": "code",
    "id": "7Bt_Q_oPJpgn"
   },
   "outputs": [],
   "source": [
    "# Let's import the pandas, numpy libraries as pd, and np respectively. \n",
    "import pandas as pd\n",
    "import numpy as np\n",
    "\n",
    "# Load the pyplot collection of functions from matplotlib, as plt \n",
    "import matplotlib.pyplot as plt"
   ]
  },
  {
   "cell_type": "markdown",
   "metadata": {
    "colab_type": "text",
    "id": "koUrawxsJpgq"
   },
   "source": [
    "#### 1.2.  Loading the data\n",
    "Your data comes from the [London Datastore](https://data.london.gov.uk/): a free, open-source data-sharing portal for London-oriented datasets. "
   ]
  },
  {
   "cell_type": "code",
   "execution_count": 2,
   "metadata": {
    "colab": {},
    "colab_type": "code",
    "id": "AiLiD4v3Jpgr"
   },
   "outputs": [],
   "source": [
    "# First, make a variable called url_LondonHousePrices, and assign it the following link, enclosed in quotation-marks as a string:\n",
    "# https://data.london.gov.uk/download/uk-house-price-index/70ac0766-8902-4eb5-aab5-01951aaed773/UK%20House%20price%20index.xls\n",
    "\n",
    "url_LondonHousePrices = \"https://data.london.gov.uk/download/uk-house-price-index/70ac0766-8902-4eb5-aab5-01951aaed773/UK%20House%20price%20index.xls\"\n",
    "\n",
    "# The dataset we're interested in contains the Average prices of the houses, and is actually on a particular sheet of the Excel file. \n",
    "# As a result, we need to specify the sheet name in the read_excel() method.\n",
    "# Put this data into a variable called properties.  \n",
    "properties = pd.read_excel(url_LondonHousePrices, sheet_name='Average price', index_col= None)\n"
   ]
  },
  {
   "cell_type": "markdown",
   "metadata": {
    "colab_type": "text",
    "id": "POukEJXgJpgu"
   },
   "source": [
    "### 2. Cleaning, transforming, and visualizing\n",
    "This second stage is arguably the most important part of any Data Science project. The first thing to do is take a proper look at the data. Cleaning forms the majority of this stage, and can be done both before or after Transformation.\n",
    "\n",
    "The end goal of data cleaning is to have tidy data. When data is tidy: \n",
    "\n",
    "1. Each variable has a column.\n",
    "2. Each observation forms a row.\n",
    "\n",
    "Keep the end goal in mind as you move through this process, every step will take you closer. \n",
    "\n",
    "\n",
    "\n",
    "***Hint:*** This part of the data science pipeline should test those skills you acquired in: \n",
    "- Intermediate Python for data science, all modules.\n",
    "- pandas Foundations, all modules. \n",
    "- Manipulating DataFrames with pandas, all modules.\n",
    "- Data Types for Data Science, Module Four.\n",
    "- Python Data Science Toolbox - Part One, all modules"
   ]
  },
  {
   "cell_type": "markdown",
   "metadata": {
    "colab_type": "text",
    "id": "Te0Q548tnzZa"
   },
   "source": [
    "**2.1. Exploring your data** \n",
    "\n",
    "Think about your pandas functions for checking out a dataframe. "
   ]
  },
  {
   "cell_type": "code",
   "execution_count": 3,
   "metadata": {
    "colab": {},
    "colab_type": "code",
    "id": "Rxirxw_qoAJa"
   },
   "outputs": [
    {
     "name": "stdout",
     "output_type": "stream",
     "text": [
      "<class 'pandas.core.frame.DataFrame'>\n",
      "RangeIndex: 318 entries, 0 to 317\n",
      "Data columns (total 49 columns):\n",
      " #   Column                Non-Null Count  Dtype         \n",
      "---  ------                --------------  -----         \n",
      " 0   Unnamed: 0            317 non-null    datetime64[ns]\n",
      " 1   City of London        318 non-null    object        \n",
      " 2   Barking & Dagenham    318 non-null    object        \n",
      " 3   Barnet                318 non-null    object        \n",
      " 4   Bexley                318 non-null    object        \n",
      " 5   Brent                 318 non-null    object        \n",
      " 6   Bromley               318 non-null    object        \n",
      " 7   Camden                318 non-null    object        \n",
      " 8   Croydon               318 non-null    object        \n",
      " 9   Ealing                318 non-null    object        \n",
      " 10  Enfield               318 non-null    object        \n",
      " 11  Greenwich             318 non-null    object        \n",
      " 12  Hackney               318 non-null    object        \n",
      " 13  Hammersmith & Fulham  318 non-null    object        \n",
      " 14  Haringey              318 non-null    object        \n",
      " 15  Harrow                318 non-null    object        \n",
      " 16  Havering              318 non-null    object        \n",
      " 17  Hillingdon            318 non-null    object        \n",
      " 18  Hounslow              318 non-null    object        \n",
      " 19  Islington             318 non-null    object        \n",
      " 20  Kensington & Chelsea  318 non-null    object        \n",
      " 21  Kingston upon Thames  318 non-null    object        \n",
      " 22  Lambeth               318 non-null    object        \n",
      " 23  Lewisham              318 non-null    object        \n",
      " 24  Merton                318 non-null    object        \n",
      " 25  Newham                318 non-null    object        \n",
      " 26  Redbridge             318 non-null    object        \n",
      " 27  Richmond upon Thames  318 non-null    object        \n",
      " 28  Southwark             318 non-null    object        \n",
      " 29  Sutton                318 non-null    object        \n",
      " 30  Tower Hamlets         318 non-null    object        \n",
      " 31  Waltham Forest        318 non-null    object        \n",
      " 32  Wandsworth            318 non-null    object        \n",
      " 33  Westminster           318 non-null    object        \n",
      " 34  Unnamed: 34           0 non-null      float64       \n",
      " 35  Inner London          318 non-null    object        \n",
      " 36  Outer London          318 non-null    object        \n",
      " 37  Unnamed: 37           0 non-null      float64       \n",
      " 38  NORTH EAST            318 non-null    object        \n",
      " 39  NORTH WEST            318 non-null    object        \n",
      " 40  YORKS & THE HUMBER    318 non-null    object        \n",
      " 41  EAST MIDLANDS         318 non-null    object        \n",
      " 42  WEST MIDLANDS         318 non-null    object        \n",
      " 43  EAST OF ENGLAND       318 non-null    object        \n",
      " 44  LONDON                318 non-null    object        \n",
      " 45  SOUTH EAST            318 non-null    object        \n",
      " 46  SOUTH WEST            318 non-null    object        \n",
      " 47  Unnamed: 47           0 non-null      float64       \n",
      " 48  England               318 non-null    object        \n",
      "dtypes: datetime64[ns](1), float64(3), object(45)\n",
      "memory usage: 121.9+ KB\n",
      "None\n",
      "(318, 49)\n",
      "       Unnamed: 34  Unnamed: 37  Unnamed: 47\n",
      "count          0.0          0.0          0.0\n",
      "mean           NaN          NaN          NaN\n",
      "std            NaN          NaN          NaN\n",
      "min            NaN          NaN          NaN\n",
      "25%            NaN          NaN          NaN\n",
      "50%            NaN          NaN          NaN\n",
      "75%            NaN          NaN          NaN\n",
      "max            NaN          NaN          NaN\n",
      "  Unnamed: 0 City of London Barking & Dagenham       Barnet       Bexley  \\\n",
      "0        NaT      E09000001          E09000002    E09000003    E09000004   \n",
      "1 1995-01-01    91448.98487         50460.2266  93284.51832  64958.09036   \n",
      "2 1995-02-01    82202.77314        51085.77983  93190.16963  64787.92069   \n",
      "3 1995-03-01    79120.70256        51268.96956  92247.52435  64367.49344   \n",
      "4 1995-04-01    77101.20804        53133.50526  90762.87492  64277.66881   \n",
      "\n",
      "         Brent      Bromley       Camden      Croydon       Ealing  ...  \\\n",
      "0    E09000005    E09000006    E09000007    E09000008    E09000009  ...   \n",
      "1  71306.56698  81671.47692  120932.8881  69158.16225  79885.89069  ...   \n",
      "2  72022.26197  81657.55944  119508.8622  68951.09542  80897.06551  ...   \n",
      "3  72015.76274  81449.31143  120282.2131  68712.44341  81379.86288  ...   \n",
      "4  72965.63094  81124.41227   120097.899  68610.04641  82188.90498  ...   \n",
      "\n",
      "    NORTH WEST YORKS & THE HUMBER EAST MIDLANDS WEST MIDLANDS EAST OF ENGLAND  \\\n",
      "0    E12000002          E12000003     E12000004     E12000005       E12000006   \n",
      "1  43958.48001        44803.42878   45544.52227   48527.52339      56701.5961   \n",
      "2  43925.42289        44528.80721   46051.57066   49341.29029     56593.59475   \n",
      "3   44434.8681        45200.46775   45383.82395   49442.17973     56171.18278   \n",
      "4   44267.7796        45614.34341   46124.23045   49455.93299     56567.89582   \n",
      "\n",
      "        LONDON   SOUTH EAST   SOUTH WEST Unnamed: 47      England  \n",
      "0    E12000007    E12000008    E12000009         NaN    E92000001  \n",
      "1  74435.76052  64018.87894   54705.1579         NaN  53202.77128  \n",
      "2  72777.93709  63715.02399  54356.14843         NaN   53096.1549  \n",
      "3  73896.84204  64113.60858  53583.07667         NaN   53201.2843  \n",
      "4  74455.28754  64623.22395  54786.01938         NaN   53590.8548  \n",
      "\n",
      "[5 rows x 49 columns]\n"
     ]
    }
   ],
   "source": [
    "\n",
    "\n",
    "print(properties.info())\n",
    "print(properties.shape)\n",
    "print(properties.describe())\n",
    "\n",
    "print(properties.head())"
   ]
  },
  {
   "cell_type": "markdown",
   "metadata": {
    "colab_type": "text",
    "id": "tE9Sqt9-oAta"
   },
   "source": [
    "**2.2. Cleaning the data**\n",
    "\n",
    "You might find you need to transpose your dataframe, check out what its row indexes are, and reset the index. You  also might find you need to assign the values of the first row to your column headings  . (Hint: recall the .columns feature of DataFrames, as well as the iloc[] method).\n",
    "\n",
    "Don't be afraid to use StackOverflow for help  with this."
   ]
  },
  {
   "cell_type": "markdown",
   "metadata": {
    "colab": {},
    "colab_type": "code",
    "id": "cdAu1A3YoH_r"
   },
   "source": [
    "- get rid of unnamed columns\n",
    "- 0 row, add to column names/?\n",
    "- transpose data\n",
    "- do we need index and dates? "
   ]
  },
  {
   "cell_type": "code",
   "execution_count": 4,
   "metadata": {},
   "outputs": [
    {
     "name": "stdout",
     "output_type": "stream",
     "text": [
      "Index(['Unnamed: 0', 'City of London', 'Barking & Dagenham', 'Barnet',\n",
      "       'Bexley', 'Brent', 'Bromley', 'Camden', 'Croydon', 'Ealing', 'Enfield',\n",
      "       'Greenwich', 'Hackney', 'Hammersmith & Fulham', 'Haringey', 'Harrow',\n",
      "       'Havering', 'Hillingdon', 'Hounslow', 'Islington',\n",
      "       'Kensington & Chelsea', 'Kingston upon Thames', 'Lambeth', 'Lewisham',\n",
      "       'Merton', 'Newham', 'Redbridge', 'Richmond upon Thames', 'Southwark',\n",
      "       'Sutton', 'Tower Hamlets', 'Waltham Forest', 'Wandsworth',\n",
      "       'Westminster', 'Unnamed: 34', 'Inner London', 'Outer London',\n",
      "       'Unnamed: 37', 'NORTH EAST', 'NORTH WEST', 'YORKS & THE HUMBER',\n",
      "       'EAST MIDLANDS', 'WEST MIDLANDS', 'EAST OF ENGLAND', 'LONDON',\n",
      "       'SOUTH EAST', 'SOUTH WEST', 'Unnamed: 47', 'England'],\n",
      "      dtype='object')\n"
     ]
    }
   ],
   "source": [
    "properties_t = properties.transpose()\n",
    "#doesn't do anything -- when transposed, place names were automatically indexed, and this doesn't switch them back\n",
    "#print(properties_t.index)\n",
    "properties_t.reset_index() \n",
    "print(properties_t.index)\n",
    "#properties_t.index.values[0] = 'table'\n",
    "\n",
    "\n",
    "properties_t.columns = properties_t.iloc[0]\n",
    "properties_t = properties_t.drop(properties_t.index[0])\n",
    "#properties_t.drop('table')\n",
    "\n",
    "#print(properties_t.index))\n",
    "\n",
    "#https://re-thought.com/delete-drop-column-from-pandas-dataframe/"
   ]
  },
  {
   "cell_type": "markdown",
   "metadata": {
    "colab_type": "text",
    "id": "o1uLbJAsoIjK"
   },
   "source": [
    "**2.3. Cleaning the data (part 2)**\n",
    "\n",
    "You might we have to **rename** a couple columns. How do you do this? The clue's pretty bold..."
   ]
  },
  {
   "cell_type": "code",
   "execution_count": 5,
   "metadata": {
    "colab": {},
    "colab_type": "code",
    "id": "GKkmn1AnoVZS"
   },
   "outputs": [
    {
     "name": "stdout",
     "output_type": "stream",
     "text": [
      "Unnamed: 0         PostalCode   1995-01-01   1995-02-01   1995-03-01  \\\n",
      "City of London      E09000001  91448.98487  82202.77314  79120.70256   \n",
      "Barking & Dagenham  E09000002   50460.2266  51085.77983  51268.96956   \n",
      "Barnet              E09000003  93284.51832  93190.16963  92247.52435   \n",
      "Bexley              E09000004  64958.09036  64787.92069  64367.49344   \n",
      "Brent               E09000005  71306.56698  72022.26197  72015.76274   \n",
      "\n",
      "Unnamed: 0           1995-04-01   1995-05-01   1995-06-01   1995-07-01  \\\n",
      "City of London      77101.20804  84409.14932  94900.51244  110128.0423   \n",
      "Barking & Dagenham  53133.50526  53042.24852  53700.34831  52113.12157   \n",
      "Barnet              90762.87492  90258.00033  90107.23471  91441.24768   \n",
      "Bexley              64277.66881  63997.13588  64252.32335  63722.70055   \n",
      "Brent               72965.63094  73704.04743  74310.48167  74127.03788   \n",
      "\n",
      "Unnamed: 0           1995-08-01   1995-09-01  ...   2020-08-01   2020-09-01  \\\n",
      "City of London      112329.4376  104473.1096  ...  827658.5167  798499.1646   \n",
      "Barking & Dagenham  52232.19868  51471.61353  ...  304923.5027  301702.4656   \n",
      "Barnet              92361.31512  93273.12245  ...  529660.1524    533619.23   \n",
      "Bexley              64432.60005  64509.54767  ...  346679.9244  345061.4945   \n",
      "Brent                73547.0411  73789.54287  ...  497729.0327  519561.8277   \n",
      "\n",
      "Unnamed: 0           2020-10-01   2020-11-01   2020-12-01   2021-01-01  \\\n",
      "City of London      836807.0518  769391.7847  801999.0466  760599.2322   \n",
      "Barking & Dagenham  304852.1338  305012.3291  309560.1023  311007.1517   \n",
      "Barnet              530353.5205  528816.4928  532528.0926  538842.4015   \n",
      "Bexley              345404.9836  346252.9145  352260.8385   356664.073   \n",
      "Brent               522239.3216   513100.814  495066.6459  511347.8856   \n",
      "\n",
      "Unnamed: 0           2021-02-01   2021-03-01   2021-04-01   2021-05-01  \n",
      "City of London      729315.7243  717528.2633  713094.5391  765822.2726  \n",
      "Barking & Dagenham  313835.8023  314187.4036  309680.5549  308760.1446  \n",
      "Barnet              538215.8867  542872.3895  545746.3543  546082.2634  \n",
      "Bexley              360116.1134  364480.9055  365519.4195  368554.8059  \n",
      "Brent               514388.7387  519212.9441  498083.9417  508570.7598  \n",
      "\n",
      "[5 rows x 318 columns]\n",
      "Index(['PostalCode', '1995-01-01', '1995-02-01', '1995-03-01', '1995-04-01',\n",
      "       '1995-05-01', '1995-06-01', '1995-07-01', '1995-08-01', '1995-09-01',\n",
      "       ...\n",
      "       '2020-08-01', '2020-09-01', '2020-10-01', '2020-11-01', '2020-12-01',\n",
      "       '2021-01-01', '2021-02-01', '2021-03-01', '2021-04-01', '2021-05-01'],\n",
      "      dtype='object', name='Unnamed: 0', length=318)\n"
     ]
    }
   ],
   "source": [
    "properties_t.columns = properties_t.columns.astype(str)\n",
    "properties_t = properties_t.rename(columns={\"NaT\": \"PostalCode\"})\n",
    "print(properties_t.head())\n",
    "print(properties_t.columns)\n",
    "\n",
    "#https://stackoverflow.com/questions/55424411/how-to-change-a-column-name-when-the-current-name-is-nat-in-pandas"
   ]
  },
  {
   "cell_type": "markdown",
   "metadata": {
    "colab_type": "text",
    "id": "jy8BzXHmoWEw"
   },
   "source": [
    "**2.4.Transforming the data**\n",
    "\n",
    "Remember what Wes McKinney said about tidy data? \n",
    "\n",
    "You might need to **melt** your DataFrame here. "
   ]
  },
  {
   "cell_type": "code",
   "execution_count": 6,
   "metadata": {
    "colab": {},
    "colab_type": "code",
    "id": "S2wM0qLuo2Zt"
   },
   "outputs": [
    {
     "data": {
      "text/html": [
       "<div>\n",
       "<style scoped>\n",
       "    .dataframe tbody tr th:only-of-type {\n",
       "        vertical-align: middle;\n",
       "    }\n",
       "\n",
       "    .dataframe tbody tr th {\n",
       "        vertical-align: top;\n",
       "    }\n",
       "\n",
       "    .dataframe thead th {\n",
       "        text-align: right;\n",
       "    }\n",
       "</style>\n",
       "<table border=\"1\" class=\"dataframe\">\n",
       "  <thead>\n",
       "    <tr style=\"text-align: right;\">\n",
       "      <th></th>\n",
       "      <th>PostalCode</th>\n",
       "      <th>Month</th>\n",
       "      <th>Average Price</th>\n",
       "    </tr>\n",
       "  </thead>\n",
       "  <tbody>\n",
       "    <tr>\n",
       "      <th>City of London</th>\n",
       "      <td>E09000001</td>\n",
       "      <td>1995-01-01</td>\n",
       "      <td>91448.98487</td>\n",
       "    </tr>\n",
       "    <tr>\n",
       "      <th>Barking &amp; Dagenham</th>\n",
       "      <td>E09000002</td>\n",
       "      <td>1995-01-01</td>\n",
       "      <td>50460.2266</td>\n",
       "    </tr>\n",
       "    <tr>\n",
       "      <th>Barnet</th>\n",
       "      <td>E09000003</td>\n",
       "      <td>1995-01-01</td>\n",
       "      <td>93284.51832</td>\n",
       "    </tr>\n",
       "    <tr>\n",
       "      <th>Bexley</th>\n",
       "      <td>E09000004</td>\n",
       "      <td>1995-01-01</td>\n",
       "      <td>64958.09036</td>\n",
       "    </tr>\n",
       "    <tr>\n",
       "      <th>Brent</th>\n",
       "      <td>E09000005</td>\n",
       "      <td>1995-01-01</td>\n",
       "      <td>71306.56698</td>\n",
       "    </tr>\n",
       "    <tr>\n",
       "      <th>...</th>\n",
       "      <td>...</td>\n",
       "      <td>...</td>\n",
       "      <td>...</td>\n",
       "    </tr>\n",
       "    <tr>\n",
       "      <th>LONDON</th>\n",
       "      <td>E12000007</td>\n",
       "      <td>2021-05-01</td>\n",
       "      <td>497947.9589</td>\n",
       "    </tr>\n",
       "    <tr>\n",
       "      <th>SOUTH EAST</th>\n",
       "      <td>E12000008</td>\n",
       "      <td>2021-05-01</td>\n",
       "      <td>350015.5072</td>\n",
       "    </tr>\n",
       "    <tr>\n",
       "      <th>SOUTH WEST</th>\n",
       "      <td>E12000009</td>\n",
       "      <td>2021-05-01</td>\n",
       "      <td>277602.6983</td>\n",
       "    </tr>\n",
       "    <tr>\n",
       "      <th>Unnamed: 47</th>\n",
       "      <td>NaN</td>\n",
       "      <td>2021-05-01</td>\n",
       "      <td>NaN</td>\n",
       "    </tr>\n",
       "    <tr>\n",
       "      <th>England</th>\n",
       "      <td>E92000001</td>\n",
       "      <td>2021-05-01</td>\n",
       "      <td>271433.8707</td>\n",
       "    </tr>\n",
       "  </tbody>\n",
       "</table>\n",
       "<p>15216 rows × 3 columns</p>\n",
       "</div>"
      ],
      "text/plain": [
       "                   PostalCode       Month Average Price\n",
       "City of London      E09000001  1995-01-01   91448.98487\n",
       "Barking & Dagenham  E09000002  1995-01-01    50460.2266\n",
       "Barnet              E09000003  1995-01-01   93284.51832\n",
       "Bexley              E09000004  1995-01-01   64958.09036\n",
       "Brent               E09000005  1995-01-01   71306.56698\n",
       "...                       ...         ...           ...\n",
       "LONDON              E12000007  2021-05-01   497947.9589\n",
       "SOUTH EAST          E12000008  2021-05-01   350015.5072\n",
       "SOUTH WEST          E12000009  2021-05-01   277602.6983\n",
       "Unnamed: 47               NaN  2021-05-01           NaN\n",
       "England             E92000001  2021-05-01   271433.8707\n",
       "\n",
       "[15216 rows x 3 columns]"
      ]
     },
     "execution_count": 6,
     "metadata": {},
     "output_type": "execute_result"
    }
   ],
   "source": [
    "\n",
    "#properties_t_copy = properties_t.copy(deep=True)\n",
    "properties_tall = properties_t.melt(id_vars=['PostalCode'], var_name = ['Month'], ignore_index = False)\n",
    "#throwing a strange error when I try to name the value column, no matter what name, claimed it was already taken. Working around it.\n",
    "properties_tall = properties_tall.rename(columns={\"value\": \"Average Price\"})\n",
    "\n",
    "properties_tall"
   ]
  },
  {
   "cell_type": "markdown",
   "metadata": {
    "colab_type": "text",
    "id": "7kIsgAo7o3mf"
   },
   "source": [
    "Remember to make sure your column data types are all correct. Average prices, for example, should be floating point numbers... "
   ]
  },
  {
   "cell_type": "code",
   "execution_count": 7,
   "metadata": {
    "colab": {},
    "colab_type": "code",
    "id": "ZcR4IHbcpOaq"
   },
   "outputs": [
    {
     "data": {
      "text/plain": [
       "City of London        E09000001\n",
       "Barking & Dagenham    E09000002\n",
       "Barnet                E09000003\n",
       "Bexley                E09000004\n",
       "Brent                 E09000005\n",
       "                        ...    \n",
       "LONDON                E12000007\n",
       "SOUTH EAST            E12000008\n",
       "SOUTH WEST            E12000009\n",
       "Unnamed: 47                <NA>\n",
       "England               E92000001\n",
       "Name: PostalCode, Length: 15216, dtype: string"
      ]
     },
     "execution_count": 7,
     "metadata": {},
     "output_type": "execute_result"
    }
   ],
   "source": [
    "properties_tall.dtypes\n",
    "\n",
    "properties_tall.loc[:,'Month'] = pd.to_datetime(properties_tall.loc[:,'Month'])\n",
    "#strptime(, '%d/%m/%y')\n",
    "properties_tall['Average Price'].astype('float')\n",
    "properties_tall['PostalCode'].astype('string')\n",
    "\n",
    "#https://www.marsja.se/pandas-convert-column-to-datetime/#:~:text=Pandas%20Convert%20Column%20to%20datetime%20%E2%80%93%20object%2Fstring%2C%20integer%2C,Reading%20an%20Excel%20File.%20...%206%20Conclusion.%20"
   ]
  },
  {
   "cell_type": "markdown",
   "metadata": {
    "colab_type": "text",
    "id": "knLUXHLypOtw"
   },
   "source": [
    "**2.5. Cleaning the data (part 3)**\n",
    "\n",
    "Do we have an equal number of observations in the ID, Average Price, Month, and London Borough columns? Remember that there are only 32 London Boroughs. How many entries do you have in that column? \n",
    "\n",
    "Check out the contents of the London Borough column, and if you find null values, get rid of them however you see fit. "
   ]
  },
  {
   "cell_type": "code",
   "execution_count": 8,
   "metadata": {
    "colab": {},
    "colab_type": "code",
    "id": "BnvTW5a3p0fC"
   },
   "outputs": [
    {
     "name": "stdout",
     "output_type": "stream",
     "text": [
      "PostalCode       14265\n",
      "Month            15216\n",
      "Average Price    14265\n",
      "dtype: int64\n",
      "(15216, 3)\n",
      "PostalCode       14265\n",
      "Month            14265\n",
      "Average Price    14265\n",
      "dtype: int64\n"
     ]
    }
   ],
   "source": [
    "#properties_tall.index\n",
    "print(properties_tall.count())\n",
    "print(properties_tall.shape)\n",
    "\n",
    "#get rid of unnamed, and nan values, they match\n",
    "properties_tall = properties_tall.dropna()\n",
    "print(properties_tall.count())\n",
    "\n",
    "#for name in properties_tall.index:\n",
    "##    properties_tall.rename({name:(name.title())})\n",
    "#print(properties_tall.index)\n"
   ]
  },
  {
   "cell_type": "markdown",
   "metadata": {
    "colab_type": "text",
    "id": "PGEx6mJsp6dG"
   },
   "source": [
    "**2.6. Visualizing the data**\n",
    "\n",
    "To visualize the data, why not subset on a particular London Borough? Maybe do a line plot of Month against Average Price?"
   ]
  },
  {
   "cell_type": "code",
   "execution_count": 9,
   "metadata": {
    "colab": {},
    "colab_type": "code",
    "id": "nAg5pT9cqHAR"
   },
   "outputs": [
    {
     "data": {
      "image/png": "[encoded data removed]",
      "text/plain": [
       "<Figure size 432x288 with 1 Axes>"
      ]
     },
     "metadata": {
      "needs_background": "light"
     },
     "output_type": "display_data"
    },
    {
     "data": {
      "image/png": "[encoded data removed]",
      "text/plain": [
       "<Figure size 432x288 with 1 Axes>"
      ]
     },
     "metadata": {
      "needs_background": "light"
     },
     "output_type": "display_data"
    }
   ],
   "source": [
    "properties_tall.loc['Barnet'].plot(x='Month', y='Average Price', kind='line')\n",
    "plt.show()\n",
    "\n",
    "properties_tall.loc['LONDON'].plot(x='Month', y='Average Price', kind='line')\n",
    "plt.show()"
   ]
  },
  {
   "cell_type": "markdown",
   "metadata": {
    "colab_type": "text",
    "id": "aWTPqSJeqHnC"
   },
   "source": [
    "To limit the number of data points you have, you might want to extract the year from every month value your *Month* column. \n",
    "\n",
    "To this end, you *could* apply a ***lambda function***. Your logic could work as follows:\n",
    "1. look through the `Month` column\n",
    "2. extract the year from each individual value in that column \n",
    "3. store that corresponding year as separate column. \n",
    "\n",
    "Whether you go ahead with this is up to you. Just so long as you answer our initial brief: which boroughs of London have seen the greatest house price increase, on average, over the past two decades? "
   ]
  },
  {
   "cell_type": "code",
   "execution_count": 10,
   "metadata": {
    "colab": {},
    "colab_type": "code",
    "id": "e0DF92cyqnu8"
   },
   "outputs": [
    {
     "name": "stderr",
     "output_type": "stream",
     "text": [
      "C:\\Users\\bourg\\anaconda3\\lib\\site-packages\\pandas\\core\\indexing.py:1597: SettingWithCopyWarning: \n",
      "A value is trying to be set on a copy of a slice from a DataFrame.\n",
      "Try using .loc[row_indexer,col_indexer] = value instead\n",
      "\n",
      "See the caveats in the documentation: https://pandas.pydata.org/pandas-docs/stable/user_guide/indexing.html#returning-a-view-versus-a-copy\n",
      "  self.obj[key] = value\n",
      "C:\\Users\\bourg\\anaconda3\\lib\\site-packages\\pandas\\core\\indexing.py:1676: SettingWithCopyWarning: \n",
      "A value is trying to be set on a copy of a slice from a DataFrame.\n",
      "Try using .loc[row_indexer,col_indexer] = value instead\n",
      "\n",
      "See the caveats in the documentation: https://pandas.pydata.org/pandas-docs/stable/user_guide/indexing.html#returning-a-view-versus-a-copy\n",
      "  self._setitem_single_column(ilocs[0], value, pi)\n"
     ]
    },
    {
     "data": {
      "text/html": [
       "<div>\n",
       "<style scoped>\n",
       "    .dataframe tbody tr th:only-of-type {\n",
       "        vertical-align: middle;\n",
       "    }\n",
       "\n",
       "    .dataframe tbody tr th {\n",
       "        vertical-align: top;\n",
       "    }\n",
       "\n",
       "    .dataframe thead th {\n",
       "        text-align: right;\n",
       "    }\n",
       "</style>\n",
       "<table border=\"1\" class=\"dataframe\">\n",
       "  <thead>\n",
       "    <tr style=\"text-align: right;\">\n",
       "      <th></th>\n",
       "      <th>PostalCode</th>\n",
       "      <th>Month</th>\n",
       "      <th>Average Price</th>\n",
       "      <th>Year</th>\n",
       "    </tr>\n",
       "  </thead>\n",
       "  <tbody>\n",
       "    <tr>\n",
       "      <th>City of London</th>\n",
       "      <td>E09000001</td>\n",
       "      <td>1995-01-01</td>\n",
       "      <td>91448.98487</td>\n",
       "      <td>1995</td>\n",
       "    </tr>\n",
       "    <tr>\n",
       "      <th>Barking &amp; Dagenham</th>\n",
       "      <td>E09000002</td>\n",
       "      <td>1995-01-01</td>\n",
       "      <td>50460.2266</td>\n",
       "      <td>1995</td>\n",
       "    </tr>\n",
       "    <tr>\n",
       "      <th>Barnet</th>\n",
       "      <td>E09000003</td>\n",
       "      <td>1995-01-01</td>\n",
       "      <td>93284.51832</td>\n",
       "      <td>1995</td>\n",
       "    </tr>\n",
       "    <tr>\n",
       "      <th>Bexley</th>\n",
       "      <td>E09000004</td>\n",
       "      <td>1995-01-01</td>\n",
       "      <td>64958.09036</td>\n",
       "      <td>1995</td>\n",
       "    </tr>\n",
       "    <tr>\n",
       "      <th>Brent</th>\n",
       "      <td>E09000005</td>\n",
       "      <td>1995-01-01</td>\n",
       "      <td>71306.56698</td>\n",
       "      <td>1995</td>\n",
       "    </tr>\n",
       "    <tr>\n",
       "      <th>...</th>\n",
       "      <td>...</td>\n",
       "      <td>...</td>\n",
       "      <td>...</td>\n",
       "      <td>...</td>\n",
       "    </tr>\n",
       "    <tr>\n",
       "      <th>EAST OF ENGLAND</th>\n",
       "      <td>E12000006</td>\n",
       "      <td>2021-05-01</td>\n",
       "      <td>310200.2564</td>\n",
       "      <td>2021</td>\n",
       "    </tr>\n",
       "    <tr>\n",
       "      <th>LONDON</th>\n",
       "      <td>E12000007</td>\n",
       "      <td>2021-05-01</td>\n",
       "      <td>497947.9589</td>\n",
       "      <td>2021</td>\n",
       "    </tr>\n",
       "    <tr>\n",
       "      <th>SOUTH EAST</th>\n",
       "      <td>E12000008</td>\n",
       "      <td>2021-05-01</td>\n",
       "      <td>350015.5072</td>\n",
       "      <td>2021</td>\n",
       "    </tr>\n",
       "    <tr>\n",
       "      <th>SOUTH WEST</th>\n",
       "      <td>E12000009</td>\n",
       "      <td>2021-05-01</td>\n",
       "      <td>277602.6983</td>\n",
       "      <td>2021</td>\n",
       "    </tr>\n",
       "    <tr>\n",
       "      <th>England</th>\n",
       "      <td>E92000001</td>\n",
       "      <td>2021-05-01</td>\n",
       "      <td>271433.8707</td>\n",
       "      <td>2021</td>\n",
       "    </tr>\n",
       "  </tbody>\n",
       "</table>\n",
       "<p>14265 rows × 4 columns</p>\n",
       "</div>"
      ],
      "text/plain": [
       "                   PostalCode      Month Average Price  Year\n",
       "City of London      E09000001 1995-01-01   91448.98487  1995\n",
       "Barking & Dagenham  E09000002 1995-01-01    50460.2266  1995\n",
       "Barnet              E09000003 1995-01-01   93284.51832  1995\n",
       "Bexley              E09000004 1995-01-01   64958.09036  1995\n",
       "Brent               E09000005 1995-01-01   71306.56698  1995\n",
       "...                       ...        ...           ...   ...\n",
       "EAST OF ENGLAND     E12000006 2021-05-01   310200.2564  2021\n",
       "LONDON              E12000007 2021-05-01   497947.9589  2021\n",
       "SOUTH EAST          E12000008 2021-05-01   350015.5072  2021\n",
       "SOUTH WEST          E12000009 2021-05-01   277602.6983  2021\n",
       "England             E92000001 2021-05-01   271433.8707  2021\n",
       "\n",
       "[14265 rows x 4 columns]"
      ]
     },
     "execution_count": 10,
     "metadata": {},
     "output_type": "execute_result"
    }
   ],
   "source": [
    "\n",
    "#x = properties_tall.loc[['Barnet','Month']]\n",
    "properties_tall.loc[:,'Year'] = properties_tall.loc[:,'Month'].dt.year\n",
    "properties_tall\n"
   ]
  },
  {
   "cell_type": "markdown",
   "metadata": {
    "colab_type": "text",
    "id": "2knuTxAEqoJ4"
   },
   "source": [
    "**3. Modeling**\n",
    "\n",
    "Consider creating a function that will calculate a ratio of house prices, comparing the price of a house in 2018 to the price in 1998.\n",
    "\n",
    "Consider calling this function create_price_ratio.\n",
    "\n",
    "You'd want this function to:\n",
    "1. Take a filter of dfg, specifically where this filter constrains the London_Borough, as an argument. For example, one admissible argument should be: dfg[dfg['London_Borough']=='Camden'].\n",
    "2. Get the Average Price for that Borough, for the years 1998 and 2018.\n",
    "4. Calculate the ratio of the Average Price for 1998 divided by the Average Price for 2018.\n",
    "5. Return that ratio.\n",
    "\n",
    "Once you've written this function, you ultimately want to use it to iterate through all the unique London_Boroughs and work out the ratio capturing the difference of house prices between 1998 and 2018.\n",
    "\n",
    "Bear in mind: you don't have to write a function like this if you don't want to. If you can solve the brief otherwise, then great! \n",
    "\n",
    "***Hint***: This section should test the skills you acquired in:\n",
    "- Python Data Science Toolbox - Part One, all modules"
   ]
  },
  {
   "cell_type": "code",
   "execution_count": 11,
   "metadata": {},
   "outputs": [],
   "source": [
    "properties_tall.reset_index(inplace = True)\n"
   ]
  },
  {
   "cell_type": "code",
   "execution_count": 49,
   "metadata": {
    "colab": {},
    "colab_type": "code",
    "id": "cKTyr437UgDa",
    "scrolled": false
   },
   "outputs": [
    {
     "name": "stdout",
     "output_type": "stream",
     "text": [
      "None\n",
      "                 borough     ratio\n",
      "11               Hackney  0.161335\n",
      "30        Waltham Forest  0.171387\n",
      "27             Southwark  0.181275\n",
      "22              Lewisham  0.183512\n",
      "32           Westminster  0.186791\n",
      "24                Newham  0.188488\n",
      "0         City of London  0.188622\n",
      "33          Inner London  0.193392\n",
      "13              Haringey  0.194756\n",
      "19  Kensington & Chelsea  0.196755\n",
      "21               Lambeth  0.201704\n",
      "6                 Camden  0.202620\n",
      "1     Barking & Dagenham  0.204223\n",
      "4                  Brent  0.204309\n",
      "18             Islington  0.206439\n",
      "10             Greenwich  0.209950\n",
      "31            Wandsworth  0.210185\n",
      "23                Merton  0.210914\n",
      "41                LONDON  0.213685\n",
      "29         Tower Hamlets  0.216137\n",
      "25             Redbridge  0.223655\n",
      "34          Outer London  0.226298\n",
      "2                 Barnet  0.229453\n",
      "15              Havering  0.231202\n",
      "8                 Ealing  0.231940\n",
      "20  Kingston upon Thames  0.234162\n",
      "9                Enfield  0.234551\n",
      "3                 Bexley  0.235351\n",
      "7                Croydon  0.238033\n",
      "16            Hillingdon  0.238080\n",
      "40       EAST OF ENGLAND  0.239987\n",
      "12  Hammersmith & Fulham  0.241674\n",
      "28                Sutton  0.242806\n",
      "5                Bromley  0.244213\n",
      "14                Harrow  0.246354\n",
      "26  Richmond upon Thames  0.249678\n",
      "17              Hounslow  0.251483\n",
      "42            SOUTH EAST  0.261207\n",
      "44               England  0.262436\n",
      "43            SOUTH WEST  0.263470\n",
      "38         EAST MIDLANDS  0.275275\n",
      "36            NORTH WEST  0.297317\n",
      "37    YORKS & THE HUMBER  0.297968\n",
      "39         WEST MIDLANDS  0.302000\n",
      "35            NORTH EAST  0.353597\n"
     ]
    },
    {
     "data": {
      "image/png": "[encoded data removed]",
      "text/plain": [
       "<Figure size 432x288 with 1 Axes>"
      ]
     },
     "metadata": {
      "needs_background": "light"
     },
     "output_type": "display_data"
    }
   ],
   "source": [
    "\n",
    "\n",
    "def create_price_ratio(London_Borough):\n",
    "    #user provides the borough, we provide the average price and ratio\n",
    "    place = properties_tall[properties_tall['index']==London_Borough]\n",
    "    place.loc[:,'Year']\n",
    "        \n",
    "#    properties_tall[properties_tall['index']==London_Borough] #do we really need a filter here since it is the index?#\n",
    "    place_average_1998 = place[place.loc[:,'Year']==1998]['Average Price'].agg(np.mean)\n",
    "    place_average_2018 = place[place.loc[:,'Year']==2018]['Average Price'].agg(np.mean)\n",
    "    ratio = place_average_1998/place_average_2018\n",
    "    return ratio\n",
    "\n",
    "\n",
    "\n",
    "unique_boroughs = properties_tall['index'].unique()\n",
    "ratio_df = pd.DataFrame(columns=['borough', 'ratio'])\n",
    "\n",
    "for x in unique_boroughs:\n",
    "    #print(x)\n",
    "    ratio = create_price_ratio(x)\n",
    "    ratio_df = ratio_df.append({'borough': x, 'ratio': ratio}, ignore_index=True)\n",
    "    \n",
    "\n",
    "print(ratio_df.sort_values(by=['ratio'], inplace=True))\n",
    "print(ratio_df)\n",
    "\n",
    "ratio_df.plot(x='borough', y='ratio', kind='line')\n",
    "plt.show()\n",
    "\n",
    "\n",
    "#https://medium.com/@rodwan.bakkar/initializing-pandas-dataframes-e49349306089"
   ]
  },
  {
   "cell_type": "markdown",
   "metadata": {},
   "source": [
    "1 - how to expand graph physically, show all labels\n",
    "2 - how to explain significance of ratio and what they mean in the graph/legend? "
   ]
  },
  {
   "cell_type": "markdown",
   "metadata": {
    "colab_type": "text",
    "id": "NzYUI7FxJpgv"
   },
   "source": [
    "### 4. Conclusion\n",
    "What can you conclude? Type out your conclusion below. \n",
    "\n",
    "Look back at your notebook. Think about how you might summarize what you have done, and prepare a quick presentation on it to your mentor at your next meeting. \n",
    "\n",
    "We hope you enjoyed this practical project. It should have consolidated your data hygiene and pandas skills by looking at a real-world problem involving just the kind of dataset you might encounter as a budding data scientist. Congratulations, and looking forward to seeing you at the next step in the course! "
   ]
  },
  {
   "cell_type": "markdown",
   "metadata": {},
   "source": [
    "a smaller number, a smaller ratio means a more intense spike in housing prices. Most of London had similar growth but the tails of the graph show that some areas were outliers, particularly in regards to areas like Midlands and North East -- the spike there indicates that growth in average prices has been comparably much less than other boroughs in the decade studied (1998 - 2018). "
   ]
  },
  {
   "cell_type": "code",
   "execution_count": null,
   "metadata": {},
   "outputs": [],
   "source": []
  },
  {
   "cell_type": "code",
   "execution_count": null,
   "metadata": {},
   "outputs": [],
   "source": []
  },
  {
   "cell_type": "code",
   "execution_count": null,
   "metadata": {},
   "outputs": [],
   "source": []
  }
 ],
 "metadata": {
  "colab": {
   "collapsed_sections": [],
   "name": "Springboard Data Science Career Track Unit 4 Challenge - Tier 3 Complete .ipynb",
   "provenance": []
  },
  "kernelspec": {
   "display_name": "Python 3",
   "language": "python",
   "name": "python3"
  },
  "language_info": {
   "codemirror_mode": {
    "name": "ipython",
    "version": 3
   },
   "file_extension": ".py",
   "mimetype": "text/x-python",
   "name": "python",
   "nbconvert_exporter": "python",
   "pygments_lexer": "ipython3",
   "version": "3.8.8"
  }
 },
 "nbformat": 4,
 "nbformat_minor": 1
}
