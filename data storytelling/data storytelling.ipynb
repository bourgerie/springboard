{
 "cells": [
  {
   "cell_type": "markdown",
   "id": "f24ead88",
   "metadata": {},
   "source": [
    "# Cost of living index around the world"
   ]
  },
  {
   "cell_type": "markdown",
   "id": "256c9ab5",
   "metadata": {},
   "source": [
    "From the website: \n",
    "https://www.numbeo.com/cost-of-living/cpi_explained.jsp\n",
    "\"These indices are relative to New York City (NYC). Which means that for New York City, each index should be 100(%). If another city has, for example, rent index of 120, it means that on an average in that city rents are 20% more expensive than in New York City. If a city has rent index of 70, that means on average rent in that city is 30% less expensive than in New York City.\"\n"
   ]
  },
  {
   "cell_type": "markdown",
   "id": "c03077ff",
   "metadata": {},
   "source": [
    "# questions"
   ]
  },
  {
   "cell_type": "markdown",
   "id": "2f5accc1",
   "metadata": {},
   "source": [
    "what are the most expensive countries by cost of living? least expensive? \n",
    "does the cost of groceries effect the cost of eating out? \n",
    "is there a correlation between rent cost and living cost? \n"
   ]
  },
  {
   "cell_type": "code",
   "execution_count": 34,
   "id": "281a6de1",
   "metadata": {},
   "outputs": [],
   "source": [
    "import pandas as pd\n",
    "import numpy as np\n",
    "import seaborn as sns\n",
    "import matplotlib.pyplot as plt"
   ]
  },
  {
   "cell_type": "code",
   "execution_count": 35,
   "id": "6539c0d8",
   "metadata": {},
   "outputs": [],
   "source": [
    "df = pd.read_csv('C:/Users/bourg/OneDrive/Documents/springboard/data storytelling/Cost_of_Living_Index_2022.csv')"
   ]
  },
  {
   "cell_type": "code",
   "execution_count": 36,
   "id": "18a10b1f",
   "metadata": {},
   "outputs": [
    {
     "data": {
      "text/html": [
       "<div>\n",
       "<style scoped>\n",
       "    .dataframe tbody tr th:only-of-type {\n",
       "        vertical-align: middle;\n",
       "    }\n",
       "\n",
       "    .dataframe tbody tr th {\n",
       "        vertical-align: top;\n",
       "    }\n",
       "\n",
       "    .dataframe thead th {\n",
       "        text-align: right;\n",
       "    }\n",
       "</style>\n",
       "<table border=\"1\" class=\"dataframe\">\n",
       "  <thead>\n",
       "    <tr style=\"text-align: right;\">\n",
       "      <th></th>\n",
       "      <th>Unnamed: 0</th>\n",
       "      <th>Unnamed: 1</th>\n",
       "      <th>Unnamed: 2</th>\n",
       "      <th>Unnamed: 3</th>\n",
       "      <th>Unnamed: 4</th>\n",
       "      <th>Unnamed: 5</th>\n",
       "      <th>Unnamed: 6</th>\n",
       "      <th>Unnamed: 7</th>\n",
       "    </tr>\n",
       "  </thead>\n",
       "  <tbody>\n",
       "    <tr>\n",
       "      <th>0</th>\n",
       "      <td>Rank</td>\n",
       "      <td>Country</td>\n",
       "      <td>Cost of Living Index</td>\n",
       "      <td>Rent Index</td>\n",
       "      <td>Cost of Living Plus Rent Index</td>\n",
       "      <td>Groceries Index</td>\n",
       "      <td>Restaurant Price Index</td>\n",
       "      <td>Local Purchasing Power Index</td>\n",
       "    </tr>\n",
       "    <tr>\n",
       "      <th>1</th>\n",
       "      <td>1</td>\n",
       "      <td>Afghanistan</td>\n",
       "      <td>20.37</td>\n",
       "      <td>2.72</td>\n",
       "      <td>12.09</td>\n",
       "      <td>14.92</td>\n",
       "      <td>12.41</td>\n",
       "      <td>23.04</td>\n",
       "    </tr>\n",
       "    <tr>\n",
       "      <th>2</th>\n",
       "      <td>2</td>\n",
       "      <td>Albania</td>\n",
       "      <td>35.5</td>\n",
       "      <td>8.47</td>\n",
       "      <td>22.83</td>\n",
       "      <td>29.32</td>\n",
       "      <td>25.82</td>\n",
       "      <td>30.19</td>\n",
       "    </tr>\n",
       "    <tr>\n",
       "      <th>3</th>\n",
       "      <td>3</td>\n",
       "      <td>Algeria</td>\n",
       "      <td>26.87</td>\n",
       "      <td>4.59</td>\n",
       "      <td>16.43</td>\n",
       "      <td>28.82</td>\n",
       "      <td>14.48</td>\n",
       "      <td>24.63</td>\n",
       "    </tr>\n",
       "    <tr>\n",
       "      <th>4</th>\n",
       "      <td>4</td>\n",
       "      <td>Argentina</td>\n",
       "      <td>34.69</td>\n",
       "      <td>7.71</td>\n",
       "      <td>22.04</td>\n",
       "      <td>28.17</td>\n",
       "      <td>33.32</td>\n",
       "      <td>30.72</td>\n",
       "    </tr>\n",
       "  </tbody>\n",
       "</table>\n",
       "</div>"
      ],
      "text/plain": [
       "  Unnamed: 0   Unnamed: 1            Unnamed: 2  Unnamed: 3  \\\n",
       "0       Rank      Country  Cost of Living Index  Rent Index   \n",
       "1          1  Afghanistan                 20.37        2.72   \n",
       "2          2      Albania                  35.5        8.47   \n",
       "3          3      Algeria                 26.87        4.59   \n",
       "4          4    Argentina                 34.69        7.71   \n",
       "\n",
       "                       Unnamed: 4       Unnamed: 5              Unnamed: 6  \\\n",
       "0  Cost of Living Plus Rent Index  Groceries Index  Restaurant Price Index   \n",
       "1                           12.09            14.92                   12.41   \n",
       "2                           22.83            29.32                   25.82   \n",
       "3                           16.43            28.82                   14.48   \n",
       "4                           22.04            28.17                   33.32   \n",
       "\n",
       "                     Unnamed: 7  \n",
       "0  Local Purchasing Power Index  \n",
       "1                         23.04  \n",
       "2                         30.19  \n",
       "3                         24.63  \n",
       "4                         30.72  "
      ]
     },
     "execution_count": 36,
     "metadata": {},
     "output_type": "execute_result"
    }
   ],
   "source": [
    "df.head()"
   ]
  },
  {
   "cell_type": "code",
   "execution_count": 37,
   "id": "e13d72ad",
   "metadata": {},
   "outputs": [],
   "source": [
    "df.columns = df.iloc[0]\n",
    "\n"
   ]
  },
  {
   "cell_type": "code",
   "execution_count": 38,
   "id": "6d76cf49",
   "metadata": {},
   "outputs": [
    {
     "data": {
      "text/html": [
       "<div>\n",
       "<style scoped>\n",
       "    .dataframe tbody tr th:only-of-type {\n",
       "        vertical-align: middle;\n",
       "    }\n",
       "\n",
       "    .dataframe tbody tr th {\n",
       "        vertical-align: top;\n",
       "    }\n",
       "\n",
       "    .dataframe thead th {\n",
       "        text-align: right;\n",
       "    }\n",
       "</style>\n",
       "<table border=\"1\" class=\"dataframe\">\n",
       "  <thead>\n",
       "    <tr style=\"text-align: right;\">\n",
       "      <th></th>\n",
       "      <th>Rank</th>\n",
       "      <th>Country</th>\n",
       "      <th>Cost of Living Index</th>\n",
       "      <th>Rent Index</th>\n",
       "      <th>Cost of Living Plus Rent Index</th>\n",
       "      <th>Groceries Index</th>\n",
       "      <th>Restaurant Price Index</th>\n",
       "      <th>Local Purchasing Power Index</th>\n",
       "    </tr>\n",
       "  </thead>\n",
       "  <tbody>\n",
       "    <tr>\n",
       "      <th>1</th>\n",
       "      <td>1</td>\n",
       "      <td>Afghanistan</td>\n",
       "      <td>20.37</td>\n",
       "      <td>2.72</td>\n",
       "      <td>12.09</td>\n",
       "      <td>14.92</td>\n",
       "      <td>12.41</td>\n",
       "      <td>23.04</td>\n",
       "    </tr>\n",
       "    <tr>\n",
       "      <th>2</th>\n",
       "      <td>2</td>\n",
       "      <td>Albania</td>\n",
       "      <td>35.5</td>\n",
       "      <td>8.47</td>\n",
       "      <td>22.83</td>\n",
       "      <td>29.32</td>\n",
       "      <td>25.82</td>\n",
       "      <td>30.19</td>\n",
       "    </tr>\n",
       "    <tr>\n",
       "      <th>3</th>\n",
       "      <td>3</td>\n",
       "      <td>Algeria</td>\n",
       "      <td>26.87</td>\n",
       "      <td>4.59</td>\n",
       "      <td>16.43</td>\n",
       "      <td>28.82</td>\n",
       "      <td>14.48</td>\n",
       "      <td>24.63</td>\n",
       "    </tr>\n",
       "    <tr>\n",
       "      <th>4</th>\n",
       "      <td>4</td>\n",
       "      <td>Argentina</td>\n",
       "      <td>34.69</td>\n",
       "      <td>7.71</td>\n",
       "      <td>22.04</td>\n",
       "      <td>28.17</td>\n",
       "      <td>33.32</td>\n",
       "      <td>30.72</td>\n",
       "    </tr>\n",
       "    <tr>\n",
       "      <th>5</th>\n",
       "      <td>5</td>\n",
       "      <td>Armenia</td>\n",
       "      <td>33.89</td>\n",
       "      <td>11.61</td>\n",
       "      <td>23.45</td>\n",
       "      <td>27.59</td>\n",
       "      <td>30.55</td>\n",
       "      <td>28.86</td>\n",
       "    </tr>\n",
       "  </tbody>\n",
       "</table>\n",
       "</div>"
      ],
      "text/plain": [
       "0 Rank      Country Cost of Living Index Rent Index  \\\n",
       "1    1  Afghanistan                20.37       2.72   \n",
       "2    2      Albania                 35.5       8.47   \n",
       "3    3      Algeria                26.87       4.59   \n",
       "4    4    Argentina                34.69       7.71   \n",
       "5    5      Armenia                33.89      11.61   \n",
       "\n",
       "0 Cost of Living Plus Rent Index Groceries Index Restaurant Price Index  \\\n",
       "1                          12.09           14.92                  12.41   \n",
       "2                          22.83           29.32                  25.82   \n",
       "3                          16.43           28.82                  14.48   \n",
       "4                          22.04           28.17                  33.32   \n",
       "5                          23.45           27.59                  30.55   \n",
       "\n",
       "0 Local Purchasing Power Index  \n",
       "1                        23.04  \n",
       "2                        30.19  \n",
       "3                        24.63  \n",
       "4                        30.72  \n",
       "5                        28.86  "
      ]
     },
     "execution_count": 38,
     "metadata": {},
     "output_type": "execute_result"
    }
   ],
   "source": [
    "df = df.iloc[1: , :]\n",
    "df.head()\n"
   ]
  },
  {
   "cell_type": "code",
   "execution_count": 39,
   "id": "072e7c41",
   "metadata": {},
   "outputs": [],
   "source": [
    "df = df.drop('Rank', axis=1)\n"
   ]
  },
  {
   "cell_type": "code",
   "execution_count": 40,
   "id": "4bf56dce",
   "metadata": {},
   "outputs": [],
   "source": [
    "df = df.set_index('Country')"
   ]
  },
  {
   "cell_type": "code",
   "execution_count": 41,
   "id": "4968bb87",
   "metadata": {},
   "outputs": [
    {
     "data": {
      "text/plain": [
       "0\n",
       "Cost of Living Index              float64\n",
       "Rent Index                        float64\n",
       "Cost of Living Plus Rent Index    float64\n",
       "Groceries Index                   float64\n",
       "Restaurant Price Index            float64\n",
       "Local Purchasing Power Index      float64\n",
       "dtype: object"
      ]
     },
     "execution_count": 41,
     "metadata": {},
     "output_type": "execute_result"
    }
   ],
   "source": [
    "df = df.astype({'Cost of Living Index':'float','Rent Index':'float','Cost of Living Plus Rent Index':'float', 'Groceries Index':'float', 'Restaurant Price Index':'float', 'Local Purchasing Power Index':'float'})\n",
    "df.dtypes"
   ]
  },
  {
   "cell_type": "code",
   "execution_count": 42,
   "id": "7930514d",
   "metadata": {},
   "outputs": [
    {
     "name": "stdout",
     "output_type": "stream",
     "text": [
      "<class 'pandas.core.frame.DataFrame'>\n",
      "Index: 139 entries, Afghanistan to Zimbabwe\n",
      "Data columns (total 6 columns):\n",
      " #   Column                          Non-Null Count  Dtype  \n",
      "---  ------                          --------------  -----  \n",
      " 0   Cost of Living Index            139 non-null    float64\n",
      " 1   Rent Index                      139 non-null    float64\n",
      " 2   Cost of Living Plus Rent Index  139 non-null    float64\n",
      " 3   Groceries Index                 139 non-null    float64\n",
      " 4   Restaurant Price Index          139 non-null    float64\n",
      " 5   Local Purchasing Power Index    139 non-null    float64\n",
      "dtypes: float64(6)\n",
      "memory usage: 7.6+ KB\n"
     ]
    }
   ],
   "source": [
    "df.info()"
   ]
  },
  {
   "cell_type": "markdown",
   "id": "18ff1fa6",
   "metadata": {},
   "source": [
    "# Greatest and Lowest Cost of Living"
   ]
  },
  {
   "cell_type": "code",
   "execution_count": 43,
   "id": "6c636e39",
   "metadata": {
    "scrolled": true
   },
   "outputs": [
    {
     "name": "stdout",
     "output_type": "stream",
     "text": [
      "0            Cost of Living Index\n",
      "Country                          \n",
      "Bermuda                    146.04\n",
      "Switzerland                123.35\n",
      "Norway                     100.90\n",
      "Iceland                     94.86\n",
      "Barbados                    92.37\n",
      "Jersey                      92.02\n",
      "Israel                      88.05\n",
      "Denmark                     84.12\n",
      "Bahamas                     84.00\n",
      "Singapore                   83.98\n"
     ]
    }
   ],
   "source": [
    "top10CL = df.sort_values('Cost of Living Index', ascending=False).head(10)\n",
    "print(top10CL[['Cost of Living Index']])\n"
   ]
  },
  {
   "cell_type": "code",
   "execution_count": 44,
   "id": "e3149cdf",
   "metadata": {},
   "outputs": [
    {
     "name": "stdout",
     "output_type": "stream",
     "text": [
      "0                            Cost of Living Index\n",
      "Country                                          \n",
      "Pakistan                                    19.92\n",
      "Afghanistan                                 20.37\n",
      "India                                       24.43\n",
      "Colombia                                    26.72\n",
      "Algeria                                     26.87\n",
      "Kosovo (Disputed Territory)                 27.05\n",
      "Uzbekistan                                  27.31\n",
      "Tunisia                                     27.87\n",
      "Nepal                                       28.29\n",
      "Turkey                                      28.31\n"
     ]
    }
   ],
   "source": [
    "low10CL = df.sort_values('Cost of Living Index', ascending=True).head(10)\n",
    "print(low10CL[['Cost of Living Index']])"
   ]
  },
  {
   "cell_type": "code",
   "execution_count": 45,
   "id": "e0f5cf74",
   "metadata": {},
   "outputs": [],
   "source": [
    "#top10CL.plot.bar(x=None, y='Cost of Living Index')\n"
   ]
  },
  {
   "cell_type": "code",
   "execution_count": 46,
   "id": "38eb48cd",
   "metadata": {
    "scrolled": true
   },
   "outputs": [
    {
     "data": {
      "text/html": [
       "<div>\n",
       "<style scoped>\n",
       "    .dataframe tbody tr th:only-of-type {\n",
       "        vertical-align: middle;\n",
       "    }\n",
       "\n",
       "    .dataframe tbody tr th {\n",
       "        vertical-align: top;\n",
       "    }\n",
       "\n",
       "    .dataframe thead th {\n",
       "        text-align: right;\n",
       "    }\n",
       "</style>\n",
       "<table border=\"1\" class=\"dataframe\">\n",
       "  <thead>\n",
       "    <tr style=\"text-align: right;\">\n",
       "      <th></th>\n",
       "      <th>Cost of Living Index</th>\n",
       "      <th>Rent Index</th>\n",
       "      <th>Cost of Living Plus Rent Index</th>\n",
       "      <th>Groceries Index</th>\n",
       "      <th>Restaurant Price Index</th>\n",
       "      <th>Local Purchasing Power Index</th>\n",
       "    </tr>\n",
       "    <tr>\n",
       "      <th>Country</th>\n",
       "      <th></th>\n",
       "      <th></th>\n",
       "      <th></th>\n",
       "      <th></th>\n",
       "      <th></th>\n",
       "      <th></th>\n",
       "    </tr>\n",
       "  </thead>\n",
       "  <tbody>\n",
       "    <tr>\n",
       "      <th>Bermuda</th>\n",
       "      <td>146.04</td>\n",
       "      <td>98.58</td>\n",
       "      <td>123.80</td>\n",
       "      <td>148.66</td>\n",
       "      <td>159.17</td>\n",
       "      <td>81.07</td>\n",
       "    </tr>\n",
       "    <tr>\n",
       "      <th>Switzerland</th>\n",
       "      <td>123.35</td>\n",
       "      <td>53.54</td>\n",
       "      <td>90.62</td>\n",
       "      <td>128.13</td>\n",
       "      <td>122.09</td>\n",
       "      <td>118.44</td>\n",
       "    </tr>\n",
       "    <tr>\n",
       "      <th>Jersey</th>\n",
       "      <td>92.02</td>\n",
       "      <td>65.33</td>\n",
       "      <td>79.51</td>\n",
       "      <td>76.88</td>\n",
       "      <td>94.65</td>\n",
       "      <td>79.14</td>\n",
       "    </tr>\n",
       "    <tr>\n",
       "      <th>Hong Kong</th>\n",
       "      <td>80.71</td>\n",
       "      <td>74.57</td>\n",
       "      <td>77.83</td>\n",
       "      <td>84.72</td>\n",
       "      <td>58.58</td>\n",
       "      <td>65.74</td>\n",
       "    </tr>\n",
       "    <tr>\n",
       "      <th>Singapore</th>\n",
       "      <td>83.98</td>\n",
       "      <td>66.43</td>\n",
       "      <td>75.75</td>\n",
       "      <td>77.08</td>\n",
       "      <td>61.17</td>\n",
       "      <td>91.34</td>\n",
       "    </tr>\n",
       "    <tr>\n",
       "      <th>Luxembourg</th>\n",
       "      <td>80.50</td>\n",
       "      <td>60.09</td>\n",
       "      <td>70.93</td>\n",
       "      <td>74.75</td>\n",
       "      <td>88.79</td>\n",
       "      <td>98.84</td>\n",
       "    </tr>\n",
       "    <tr>\n",
       "      <th>Iceland</th>\n",
       "      <td>94.86</td>\n",
       "      <td>41.93</td>\n",
       "      <td>70.05</td>\n",
       "      <td>90.22</td>\n",
       "      <td>99.42</td>\n",
       "      <td>77.06</td>\n",
       "    </tr>\n",
       "    <tr>\n",
       "      <th>Norway</th>\n",
       "      <td>100.90</td>\n",
       "      <td>34.68</td>\n",
       "      <td>69.86</td>\n",
       "      <td>97.31</td>\n",
       "      <td>105.49</td>\n",
       "      <td>83.11</td>\n",
       "    </tr>\n",
       "    <tr>\n",
       "      <th>Guernsey</th>\n",
       "      <td>83.59</td>\n",
       "      <td>54.02</td>\n",
       "      <td>69.73</td>\n",
       "      <td>76.76</td>\n",
       "      <td>89.98</td>\n",
       "      <td>71.57</td>\n",
       "    </tr>\n",
       "    <tr>\n",
       "      <th>Israel</th>\n",
       "      <td>88.05</td>\n",
       "      <td>33.94</td>\n",
       "      <td>62.69</td>\n",
       "      <td>76.72</td>\n",
       "      <td>95.31</td>\n",
       "      <td>75.58</td>\n",
       "    </tr>\n",
       "  </tbody>\n",
       "</table>\n",
       "</div>"
      ],
      "text/plain": [
       "0            Cost of Living Index  Rent Index  Cost of Living Plus Rent Index  \\\n",
       "Country                                                                         \n",
       "Bermuda                    146.04       98.58                          123.80   \n",
       "Switzerland                123.35       53.54                           90.62   \n",
       "Jersey                      92.02       65.33                           79.51   \n",
       "Hong Kong                   80.71       74.57                           77.83   \n",
       "Singapore                   83.98       66.43                           75.75   \n",
       "Luxembourg                  80.50       60.09                           70.93   \n",
       "Iceland                     94.86       41.93                           70.05   \n",
       "Norway                     100.90       34.68                           69.86   \n",
       "Guernsey                    83.59       54.02                           69.73   \n",
       "Israel                      88.05       33.94                           62.69   \n",
       "\n",
       "0            Groceries Index  Restaurant Price Index  \\\n",
       "Country                                                \n",
       "Bermuda               148.66                  159.17   \n",
       "Switzerland           128.13                  122.09   \n",
       "Jersey                 76.88                   94.65   \n",
       "Hong Kong              84.72                   58.58   \n",
       "Singapore              77.08                   61.17   \n",
       "Luxembourg             74.75                   88.79   \n",
       "Iceland                90.22                   99.42   \n",
       "Norway                 97.31                  105.49   \n",
       "Guernsey               76.76                   89.98   \n",
       "Israel                 76.72                   95.31   \n",
       "\n",
       "0            Local Purchasing Power Index  \n",
       "Country                                    \n",
       "Bermuda                             81.07  \n",
       "Switzerland                        118.44  \n",
       "Jersey                              79.14  \n",
       "Hong Kong                           65.74  \n",
       "Singapore                           91.34  \n",
       "Luxembourg                          98.84  \n",
       "Iceland                             77.06  \n",
       "Norway                              83.11  \n",
       "Guernsey                            71.57  \n",
       "Israel                              75.58  "
      ]
     },
     "execution_count": 46,
     "metadata": {},
     "output_type": "execute_result"
    }
   ],
   "source": [
    "df.sort_values('Cost of Living Plus Rent Index', ascending=False).head(10)"
   ]
  },
  {
   "cell_type": "markdown",
   "id": "de9fb151",
   "metadata": {},
   "source": [
    "Cost of Living Index vs Cost of Living Plus Rent Index in the top ten and bottom ten (sorted by Cost of Living Index), are they comparable indications of cost of living? "
   ]
  },
  {
   "cell_type": "code",
   "execution_count": 47,
   "id": "ebbc2554",
   "metadata": {},
   "outputs": [
    {
     "data": {
      "text/plain": [
       "<AxesSubplot:xlabel='Country'>"
      ]
     },
     "execution_count": 47,
     "metadata": {},
     "output_type": "execute_result"
    },
    {
     "data": {
      "image/png": "[encoded data removed]",
      "text/plain": [
       "<Figure size 432x288 with 1 Axes>"
      ]
     },
     "metadata": {
      "needs_background": "light"
     },
     "output_type": "display_data"
    }
   ],
   "source": [
    "top10CL.plot.bar(x=None, y=['Cost of Living Index', 'Cost of Living Plus Rent Index', 'Rent Index'])\n"
   ]
  },
  {
   "cell_type": "code",
   "execution_count": 48,
   "id": "6c21054b",
   "metadata": {},
   "outputs": [],
   "source": [
    "#top10CL.plot.line(x='Cost of Living Index', y='Cost of Living Plus Rent Index')"
   ]
  },
  {
   "cell_type": "markdown",
   "id": "c3b436d0",
   "metadata": {},
   "source": [
    "They follow similar trends, but not exactly the same. "
   ]
  },
  {
   "cell_type": "code",
   "execution_count": 49,
   "id": "b00e7d8b",
   "metadata": {},
   "outputs": [
    {
     "data": {
      "text/plain": [
       "<AxesSubplot:xlabel='Country'>"
      ]
     },
     "execution_count": 49,
     "metadata": {},
     "output_type": "execute_result"
    },
    {
     "data": {
      "image/png": "[encoded data removed]",
      "text/plain": [
       "<Figure size 432x288 with 1 Axes>"
      ]
     },
     "metadata": {
      "needs_background": "light"
     },
     "output_type": "display_data"
    }
   ],
   "source": [
    "low10CL.plot.bar(x=None, y=['Cost of Living Index', 'Cost of Living Plus Rent Index', 'Rent Index'])\n"
   ]
  },
  {
   "cell_type": "markdown",
   "id": "5a6551c6",
   "metadata": {},
   "source": [
    "There is even less of a consistent trend between the indexes here. Rent does not seem to have the same degree of importance in each country (when you include it, it changes its 'ranking'/comparison to 'Cost of Living Index' sometimes, but not others)."
   ]
  },
  {
   "cell_type": "markdown",
   "id": "74e7fba5",
   "metadata": {},
   "source": [
    "# Groceries and eating out"
   ]
  },
  {
   "cell_type": "markdown",
   "id": "37787079",
   "metadata": {},
   "source": [
    "Focusing on the df created for the top 10 cost of Living Index, top10CL, but now looking at the columns Groceries Index and Restaurant Price Index. I want to compare the two to see if there are correlations, i.e. if groceries index is high is restaurant price equally high or is it lower? Are people motivated to eat out more in these countries? Etc. Is there consistence in the trends? "
   ]
  },
  {
   "cell_type": "code",
   "execution_count": 57,
   "id": "6ca459f8",
   "metadata": {},
   "outputs": [
    {
     "data": {
      "text/plain": [
       "<AxesSubplot:xlabel='Country'>"
      ]
     },
     "execution_count": 57,
     "metadata": {},
     "output_type": "execute_result"
    },
    {
     "data": {
      "image/png": "[encoded data removed]",
      "text/plain": [
       "<Figure size 432x288 with 1 Axes>"
      ]
     },
     "metadata": {
      "needs_background": "light"
     },
     "output_type": "display_data"
    }
   ],
   "source": [
    "top10CL.plot.bar(x=None, y=['Groceries Index', 'Restaurant Price Index'])\n"
   ]
  },
  {
   "cell_type": "markdown",
   "id": "c90a4698",
   "metadata": {},
   "source": [
    "Jersey, Israel, Denmark, the Bahamas, and Singapore all have wider gaps than the other five in the top ten, where the indexes tend to stay closer together. "
   ]
  },
  {
   "cell_type": "code",
   "execution_count": 58,
   "id": "b90e5aa5",
   "metadata": {},
   "outputs": [
    {
     "data": {
      "text/plain": [
       "<AxesSubplot:xlabel='Country'>"
      ]
     },
     "execution_count": 58,
     "metadata": {},
     "output_type": "execute_result"
    },
    {
     "data": {
      "image/png": "[encoded data removed]",
      "text/plain": [
       "<Figure size 432x288 with 1 Axes>"
      ]
     },
     "metadata": {
      "needs_background": "light"
     },
     "output_type": "display_data"
    }
   ],
   "source": [
    "low10CL.plot.bar(x=None, y=['Groceries Index', 'Restaurant Price Index'])\n"
   ]
  },
  {
   "cell_type": "markdown",
   "id": "d6c63afd",
   "metadata": {},
   "source": [
    "This graph is where for the countries with the lowest cost of living, and the gaps are even wider, and noticably, groceries are always more expensive, sometimes widely so, like with Algeria or Tunisia. Eating at a restaurant in these countries is cheaper than buying groceries. This trend is something that I would definitely want to investigate further in the data to see if it holds up, where a reversal occurs, etc. My hypothesis is that the grocery index would continue to be higher than the restaurant price index for a while, but that at some point it would reverse and that restaurants would be more expensive in more expensive countries. "
   ]
  },
  {
   "cell_type": "code",
   "execution_count": null,
   "id": "286a0cd1",
   "metadata": {},
   "outputs": [],
   "source": []
  },
  {
   "cell_type": "code",
   "execution_count": null,
   "id": "f097a59e",
   "metadata": {},
   "outputs": [],
   "source": []
  },
  {
   "cell_type": "code",
   "execution_count": null,
   "id": "ea22e228",
   "metadata": {},
   "outputs": [],
   "source": []
  }
 ],
 "metadata": {
  "kernelspec": {
   "display_name": "Python 3",
   "language": "python",
   "name": "python3"
  },
  "language_info": {
   "codemirror_mode": {
    "name": "ipython",
    "version": 3
   },
   "file_extension": ".py",
   "mimetype": "text/x-python",
   "name": "python",
   "nbconvert_exporter": "python",
   "pygments_lexer": "ipython3",
   "version": "3.8.8"
  }
 },
 "nbformat": 4,
 "nbformat_minor": 5
}
